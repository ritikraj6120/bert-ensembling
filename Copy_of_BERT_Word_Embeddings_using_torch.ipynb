{
  "nbformat": 4,
  "nbformat_minor": 0,
  "metadata": {
    "colab": {
      "provenance": [],
      "include_colab_link": true
    },
    "kernelspec": {
      "name": "python3",
      "display_name": "Python 3"
    },
    "gpuClass": "standard",
    "widgets": {
      "application/vnd.jupyter.widget-state+json": {
        "2a1822777ac84ab8b21688555932cbfa": {
          "model_module": "@jupyter-widgets/controls",
          "model_name": "HBoxModel",
          "model_module_version": "1.5.0",
          "state": {
            "_dom_classes": [],
            "_model_module": "@jupyter-widgets/controls",
            "_model_module_version": "1.5.0",
            "_model_name": "HBoxModel",
            "_view_count": null,
            "_view_module": "@jupyter-widgets/controls",
            "_view_module_version": "1.5.0",
            "_view_name": "HBoxView",
            "box_style": "",
            "children": [
              "IPY_MODEL_d76a0dc883e1415a83dd73801946a4af",
              "IPY_MODEL_679fec5fcb9d47c0888243b845b06053",
              "IPY_MODEL_d34a55fca83a449d9a0088b039f42a1f"
            ],
            "layout": "IPY_MODEL_5f2ceee2c8934691bbc349f9fabe1892"
          }
        },
        "d76a0dc883e1415a83dd73801946a4af": {
          "model_module": "@jupyter-widgets/controls",
          "model_name": "HTMLModel",
          "model_module_version": "1.5.0",
          "state": {
            "_dom_classes": [],
            "_model_module": "@jupyter-widgets/controls",
            "_model_module_version": "1.5.0",
            "_model_name": "HTMLModel",
            "_view_count": null,
            "_view_module": "@jupyter-widgets/controls",
            "_view_module_version": "1.5.0",
            "_view_name": "HTMLView",
            "description": "",
            "description_tooltip": null,
            "layout": "IPY_MODEL_95c2831a6aec4553924aa7581874237b",
            "placeholder": "​",
            "style": "IPY_MODEL_2da6faa6f5f74b7d9a34c914c69d15d4",
            "value": "Downloading (…)solve/main/vocab.txt: 100%"
          }
        },
        "679fec5fcb9d47c0888243b845b06053": {
          "model_module": "@jupyter-widgets/controls",
          "model_name": "FloatProgressModel",
          "model_module_version": "1.5.0",
          "state": {
            "_dom_classes": [],
            "_model_module": "@jupyter-widgets/controls",
            "_model_module_version": "1.5.0",
            "_model_name": "FloatProgressModel",
            "_view_count": null,
            "_view_module": "@jupyter-widgets/controls",
            "_view_module_version": "1.5.0",
            "_view_name": "ProgressView",
            "bar_style": "success",
            "description": "",
            "description_tooltip": null,
            "layout": "IPY_MODEL_9abadc7cd5be4698ac89770c21a37988",
            "max": 231508,
            "min": 0,
            "orientation": "horizontal",
            "style": "IPY_MODEL_54a9df705604437d8b5a7ba6166d91ac",
            "value": 231508
          }
        },
        "d34a55fca83a449d9a0088b039f42a1f": {
          "model_module": "@jupyter-widgets/controls",
          "model_name": "HTMLModel",
          "model_module_version": "1.5.0",
          "state": {
            "_dom_classes": [],
            "_model_module": "@jupyter-widgets/controls",
            "_model_module_version": "1.5.0",
            "_model_name": "HTMLModel",
            "_view_count": null,
            "_view_module": "@jupyter-widgets/controls",
            "_view_module_version": "1.5.0",
            "_view_name": "HTMLView",
            "description": "",
            "description_tooltip": null,
            "layout": "IPY_MODEL_24d309c2889d49dea58ed568a88462df",
            "placeholder": "​",
            "style": "IPY_MODEL_07e99d77f0b046eea1f346f7abc042c9",
            "value": " 232k/232k [00:00&lt;00:00, 669kB/s]"
          }
        },
        "5f2ceee2c8934691bbc349f9fabe1892": {
          "model_module": "@jupyter-widgets/base",
          "model_name": "LayoutModel",
          "model_module_version": "1.2.0",
          "state": {
            "_model_module": "@jupyter-widgets/base",
            "_model_module_version": "1.2.0",
            "_model_name": "LayoutModel",
            "_view_count": null,
            "_view_module": "@jupyter-widgets/base",
            "_view_module_version": "1.2.0",
            "_view_name": "LayoutView",
            "align_content": null,
            "align_items": null,
            "align_self": null,
            "border": null,
            "bottom": null,
            "display": null,
            "flex": null,
            "flex_flow": null,
            "grid_area": null,
            "grid_auto_columns": null,
            "grid_auto_flow": null,
            "grid_auto_rows": null,
            "grid_column": null,
            "grid_gap": null,
            "grid_row": null,
            "grid_template_areas": null,
            "grid_template_columns": null,
            "grid_template_rows": null,
            "height": null,
            "justify_content": null,
            "justify_items": null,
            "left": null,
            "margin": null,
            "max_height": null,
            "max_width": null,
            "min_height": null,
            "min_width": null,
            "object_fit": null,
            "object_position": null,
            "order": null,
            "overflow": null,
            "overflow_x": null,
            "overflow_y": null,
            "padding": null,
            "right": null,
            "top": null,
            "visibility": null,
            "width": null
          }
        },
        "95c2831a6aec4553924aa7581874237b": {
          "model_module": "@jupyter-widgets/base",
          "model_name": "LayoutModel",
          "model_module_version": "1.2.0",
          "state": {
            "_model_module": "@jupyter-widgets/base",
            "_model_module_version": "1.2.0",
            "_model_name": "LayoutModel",
            "_view_count": null,
            "_view_module": "@jupyter-widgets/base",
            "_view_module_version": "1.2.0",
            "_view_name": "LayoutView",
            "align_content": null,
            "align_items": null,
            "align_self": null,
            "border": null,
            "bottom": null,
            "display": null,
            "flex": null,
            "flex_flow": null,
            "grid_area": null,
            "grid_auto_columns": null,
            "grid_auto_flow": null,
            "grid_auto_rows": null,
            "grid_column": null,
            "grid_gap": null,
            "grid_row": null,
            "grid_template_areas": null,
            "grid_template_columns": null,
            "grid_template_rows": null,
            "height": null,
            "justify_content": null,
            "justify_items": null,
            "left": null,
            "margin": null,
            "max_height": null,
            "max_width": null,
            "min_height": null,
            "min_width": null,
            "object_fit": null,
            "object_position": null,
            "order": null,
            "overflow": null,
            "overflow_x": null,
            "overflow_y": null,
            "padding": null,
            "right": null,
            "top": null,
            "visibility": null,
            "width": null
          }
        },
        "2da6faa6f5f74b7d9a34c914c69d15d4": {
          "model_module": "@jupyter-widgets/controls",
          "model_name": "DescriptionStyleModel",
          "model_module_version": "1.5.0",
          "state": {
            "_model_module": "@jupyter-widgets/controls",
            "_model_module_version": "1.5.0",
            "_model_name": "DescriptionStyleModel",
            "_view_count": null,
            "_view_module": "@jupyter-widgets/base",
            "_view_module_version": "1.2.0",
            "_view_name": "StyleView",
            "description_width": ""
          }
        },
        "9abadc7cd5be4698ac89770c21a37988": {
          "model_module": "@jupyter-widgets/base",
          "model_name": "LayoutModel",
          "model_module_version": "1.2.0",
          "state": {
            "_model_module": "@jupyter-widgets/base",
            "_model_module_version": "1.2.0",
            "_model_name": "LayoutModel",
            "_view_count": null,
            "_view_module": "@jupyter-widgets/base",
            "_view_module_version": "1.2.0",
            "_view_name": "LayoutView",
            "align_content": null,
            "align_items": null,
            "align_self": null,
            "border": null,
            "bottom": null,
            "display": null,
            "flex": null,
            "flex_flow": null,
            "grid_area": null,
            "grid_auto_columns": null,
            "grid_auto_flow": null,
            "grid_auto_rows": null,
            "grid_column": null,
            "grid_gap": null,
            "grid_row": null,
            "grid_template_areas": null,
            "grid_template_columns": null,
            "grid_template_rows": null,
            "height": null,
            "justify_content": null,
            "justify_items": null,
            "left": null,
            "margin": null,
            "max_height": null,
            "max_width": null,
            "min_height": null,
            "min_width": null,
            "object_fit": null,
            "object_position": null,
            "order": null,
            "overflow": null,
            "overflow_x": null,
            "overflow_y": null,
            "padding": null,
            "right": null,
            "top": null,
            "visibility": null,
            "width": null
          }
        },
        "54a9df705604437d8b5a7ba6166d91ac": {
          "model_module": "@jupyter-widgets/controls",
          "model_name": "ProgressStyleModel",
          "model_module_version": "1.5.0",
          "state": {
            "_model_module": "@jupyter-widgets/controls",
            "_model_module_version": "1.5.0",
            "_model_name": "ProgressStyleModel",
            "_view_count": null,
            "_view_module": "@jupyter-widgets/base",
            "_view_module_version": "1.2.0",
            "_view_name": "StyleView",
            "bar_color": null,
            "description_width": ""
          }
        },
        "24d309c2889d49dea58ed568a88462df": {
          "model_module": "@jupyter-widgets/base",
          "model_name": "LayoutModel",
          "model_module_version": "1.2.0",
          "state": {
            "_model_module": "@jupyter-widgets/base",
            "_model_module_version": "1.2.0",
            "_model_name": "LayoutModel",
            "_view_count": null,
            "_view_module": "@jupyter-widgets/base",
            "_view_module_version": "1.2.0",
            "_view_name": "LayoutView",
            "align_content": null,
            "align_items": null,
            "align_self": null,
            "border": null,
            "bottom": null,
            "display": null,
            "flex": null,
            "flex_flow": null,
            "grid_area": null,
            "grid_auto_columns": null,
            "grid_auto_flow": null,
            "grid_auto_rows": null,
            "grid_column": null,
            "grid_gap": null,
            "grid_row": null,
            "grid_template_areas": null,
            "grid_template_columns": null,
            "grid_template_rows": null,
            "height": null,
            "justify_content": null,
            "justify_items": null,
            "left": null,
            "margin": null,
            "max_height": null,
            "max_width": null,
            "min_height": null,
            "min_width": null,
            "object_fit": null,
            "object_position": null,
            "order": null,
            "overflow": null,
            "overflow_x": null,
            "overflow_y": null,
            "padding": null,
            "right": null,
            "top": null,
            "visibility": null,
            "width": null
          }
        },
        "07e99d77f0b046eea1f346f7abc042c9": {
          "model_module": "@jupyter-widgets/controls",
          "model_name": "DescriptionStyleModel",
          "model_module_version": "1.5.0",
          "state": {
            "_model_module": "@jupyter-widgets/controls",
            "_model_module_version": "1.5.0",
            "_model_name": "DescriptionStyleModel",
            "_view_count": null,
            "_view_module": "@jupyter-widgets/base",
            "_view_module_version": "1.2.0",
            "_view_name": "StyleView",
            "description_width": ""
          }
        },
        "44852b083f094f829c97ad81961c0879": {
          "model_module": "@jupyter-widgets/controls",
          "model_name": "HBoxModel",
          "model_module_version": "1.5.0",
          "state": {
            "_dom_classes": [],
            "_model_module": "@jupyter-widgets/controls",
            "_model_module_version": "1.5.0",
            "_model_name": "HBoxModel",
            "_view_count": null,
            "_view_module": "@jupyter-widgets/controls",
            "_view_module_version": "1.5.0",
            "_view_name": "HBoxView",
            "box_style": "",
            "children": [
              "IPY_MODEL_f9d0a998039a4091a3efd178afb73fc8",
              "IPY_MODEL_2235d40cf03646139905a45efcd8939b",
              "IPY_MODEL_f40c8fdd1ac04ea49ffa10b598ed01db"
            ],
            "layout": "IPY_MODEL_db6f3e600f11448d8c01cec05a6e9a47"
          }
        },
        "f9d0a998039a4091a3efd178afb73fc8": {
          "model_module": "@jupyter-widgets/controls",
          "model_name": "HTMLModel",
          "model_module_version": "1.5.0",
          "state": {
            "_dom_classes": [],
            "_model_module": "@jupyter-widgets/controls",
            "_model_module_version": "1.5.0",
            "_model_name": "HTMLModel",
            "_view_count": null,
            "_view_module": "@jupyter-widgets/controls",
            "_view_module_version": "1.5.0",
            "_view_name": "HTMLView",
            "description": "",
            "description_tooltip": null,
            "layout": "IPY_MODEL_44820268ab8845f6aa8a6236f70fbca0",
            "placeholder": "​",
            "style": "IPY_MODEL_235f854ae24a4367ba30f2cbc0d8dbe7",
            "value": "Downloading (…)okenizer_config.json: 100%"
          }
        },
        "2235d40cf03646139905a45efcd8939b": {
          "model_module": "@jupyter-widgets/controls",
          "model_name": "FloatProgressModel",
          "model_module_version": "1.5.0",
          "state": {
            "_dom_classes": [],
            "_model_module": "@jupyter-widgets/controls",
            "_model_module_version": "1.5.0",
            "_model_name": "FloatProgressModel",
            "_view_count": null,
            "_view_module": "@jupyter-widgets/controls",
            "_view_module_version": "1.5.0",
            "_view_name": "ProgressView",
            "bar_style": "success",
            "description": "",
            "description_tooltip": null,
            "layout": "IPY_MODEL_4b9e2c7e0c714df6bd222aae9aecb7a6",
            "max": 28,
            "min": 0,
            "orientation": "horizontal",
            "style": "IPY_MODEL_5102912f579e4f1b92f1b09b56bff5cb",
            "value": 28
          }
        },
        "f40c8fdd1ac04ea49ffa10b598ed01db": {
          "model_module": "@jupyter-widgets/controls",
          "model_name": "HTMLModel",
          "model_module_version": "1.5.0",
          "state": {
            "_dom_classes": [],
            "_model_module": "@jupyter-widgets/controls",
            "_model_module_version": "1.5.0",
            "_model_name": "HTMLModel",
            "_view_count": null,
            "_view_module": "@jupyter-widgets/controls",
            "_view_module_version": "1.5.0",
            "_view_name": "HTMLView",
            "description": "",
            "description_tooltip": null,
            "layout": "IPY_MODEL_4a47b4099c23410ebd166e4618bb35fd",
            "placeholder": "​",
            "style": "IPY_MODEL_d5264da01ef54bf49408231bc5516d4d",
            "value": " 28.0/28.0 [00:00&lt;00:00, 1.36kB/s]"
          }
        },
        "db6f3e600f11448d8c01cec05a6e9a47": {
          "model_module": "@jupyter-widgets/base",
          "model_name": "LayoutModel",
          "model_module_version": "1.2.0",
          "state": {
            "_model_module": "@jupyter-widgets/base",
            "_model_module_version": "1.2.0",
            "_model_name": "LayoutModel",
            "_view_count": null,
            "_view_module": "@jupyter-widgets/base",
            "_view_module_version": "1.2.0",
            "_view_name": "LayoutView",
            "align_content": null,
            "align_items": null,
            "align_self": null,
            "border": null,
            "bottom": null,
            "display": null,
            "flex": null,
            "flex_flow": null,
            "grid_area": null,
            "grid_auto_columns": null,
            "grid_auto_flow": null,
            "grid_auto_rows": null,
            "grid_column": null,
            "grid_gap": null,
            "grid_row": null,
            "grid_template_areas": null,
            "grid_template_columns": null,
            "grid_template_rows": null,
            "height": null,
            "justify_content": null,
            "justify_items": null,
            "left": null,
            "margin": null,
            "max_height": null,
            "max_width": null,
            "min_height": null,
            "min_width": null,
            "object_fit": null,
            "object_position": null,
            "order": null,
            "overflow": null,
            "overflow_x": null,
            "overflow_y": null,
            "padding": null,
            "right": null,
            "top": null,
            "visibility": null,
            "width": null
          }
        },
        "44820268ab8845f6aa8a6236f70fbca0": {
          "model_module": "@jupyter-widgets/base",
          "model_name": "LayoutModel",
          "model_module_version": "1.2.0",
          "state": {
            "_model_module": "@jupyter-widgets/base",
            "_model_module_version": "1.2.0",
            "_model_name": "LayoutModel",
            "_view_count": null,
            "_view_module": "@jupyter-widgets/base",
            "_view_module_version": "1.2.0",
            "_view_name": "LayoutView",
            "align_content": null,
            "align_items": null,
            "align_self": null,
            "border": null,
            "bottom": null,
            "display": null,
            "flex": null,
            "flex_flow": null,
            "grid_area": null,
            "grid_auto_columns": null,
            "grid_auto_flow": null,
            "grid_auto_rows": null,
            "grid_column": null,
            "grid_gap": null,
            "grid_row": null,
            "grid_template_areas": null,
            "grid_template_columns": null,
            "grid_template_rows": null,
            "height": null,
            "justify_content": null,
            "justify_items": null,
            "left": null,
            "margin": null,
            "max_height": null,
            "max_width": null,
            "min_height": null,
            "min_width": null,
            "object_fit": null,
            "object_position": null,
            "order": null,
            "overflow": null,
            "overflow_x": null,
            "overflow_y": null,
            "padding": null,
            "right": null,
            "top": null,
            "visibility": null,
            "width": null
          }
        },
        "235f854ae24a4367ba30f2cbc0d8dbe7": {
          "model_module": "@jupyter-widgets/controls",
          "model_name": "DescriptionStyleModel",
          "model_module_version": "1.5.0",
          "state": {
            "_model_module": "@jupyter-widgets/controls",
            "_model_module_version": "1.5.0",
            "_model_name": "DescriptionStyleModel",
            "_view_count": null,
            "_view_module": "@jupyter-widgets/base",
            "_view_module_version": "1.2.0",
            "_view_name": "StyleView",
            "description_width": ""
          }
        },
        "4b9e2c7e0c714df6bd222aae9aecb7a6": {
          "model_module": "@jupyter-widgets/base",
          "model_name": "LayoutModel",
          "model_module_version": "1.2.0",
          "state": {
            "_model_module": "@jupyter-widgets/base",
            "_model_module_version": "1.2.0",
            "_model_name": "LayoutModel",
            "_view_count": null,
            "_view_module": "@jupyter-widgets/base",
            "_view_module_version": "1.2.0",
            "_view_name": "LayoutView",
            "align_content": null,
            "align_items": null,
            "align_self": null,
            "border": null,
            "bottom": null,
            "display": null,
            "flex": null,
            "flex_flow": null,
            "grid_area": null,
            "grid_auto_columns": null,
            "grid_auto_flow": null,
            "grid_auto_rows": null,
            "grid_column": null,
            "grid_gap": null,
            "grid_row": null,
            "grid_template_areas": null,
            "grid_template_columns": null,
            "grid_template_rows": null,
            "height": null,
            "justify_content": null,
            "justify_items": null,
            "left": null,
            "margin": null,
            "max_height": null,
            "max_width": null,
            "min_height": null,
            "min_width": null,
            "object_fit": null,
            "object_position": null,
            "order": null,
            "overflow": null,
            "overflow_x": null,
            "overflow_y": null,
            "padding": null,
            "right": null,
            "top": null,
            "visibility": null,
            "width": null
          }
        },
        "5102912f579e4f1b92f1b09b56bff5cb": {
          "model_module": "@jupyter-widgets/controls",
          "model_name": "ProgressStyleModel",
          "model_module_version": "1.5.0",
          "state": {
            "_model_module": "@jupyter-widgets/controls",
            "_model_module_version": "1.5.0",
            "_model_name": "ProgressStyleModel",
            "_view_count": null,
            "_view_module": "@jupyter-widgets/base",
            "_view_module_version": "1.2.0",
            "_view_name": "StyleView",
            "bar_color": null,
            "description_width": ""
          }
        },
        "4a47b4099c23410ebd166e4618bb35fd": {
          "model_module": "@jupyter-widgets/base",
          "model_name": "LayoutModel",
          "model_module_version": "1.2.0",
          "state": {
            "_model_module": "@jupyter-widgets/base",
            "_model_module_version": "1.2.0",
            "_model_name": "LayoutModel",
            "_view_count": null,
            "_view_module": "@jupyter-widgets/base",
            "_view_module_version": "1.2.0",
            "_view_name": "LayoutView",
            "align_content": null,
            "align_items": null,
            "align_self": null,
            "border": null,
            "bottom": null,
            "display": null,
            "flex": null,
            "flex_flow": null,
            "grid_area": null,
            "grid_auto_columns": null,
            "grid_auto_flow": null,
            "grid_auto_rows": null,
            "grid_column": null,
            "grid_gap": null,
            "grid_row": null,
            "grid_template_areas": null,
            "grid_template_columns": null,
            "grid_template_rows": null,
            "height": null,
            "justify_content": null,
            "justify_items": null,
            "left": null,
            "margin": null,
            "max_height": null,
            "max_width": null,
            "min_height": null,
            "min_width": null,
            "object_fit": null,
            "object_position": null,
            "order": null,
            "overflow": null,
            "overflow_x": null,
            "overflow_y": null,
            "padding": null,
            "right": null,
            "top": null,
            "visibility": null,
            "width": null
          }
        },
        "d5264da01ef54bf49408231bc5516d4d": {
          "model_module": "@jupyter-widgets/controls",
          "model_name": "DescriptionStyleModel",
          "model_module_version": "1.5.0",
          "state": {
            "_model_module": "@jupyter-widgets/controls",
            "_model_module_version": "1.5.0",
            "_model_name": "DescriptionStyleModel",
            "_view_count": null,
            "_view_module": "@jupyter-widgets/base",
            "_view_module_version": "1.2.0",
            "_view_name": "StyleView",
            "description_width": ""
          }
        },
        "e5921b3d9e9e469db2e3e0c9047c006c": {
          "model_module": "@jupyter-widgets/controls",
          "model_name": "HBoxModel",
          "model_module_version": "1.5.0",
          "state": {
            "_dom_classes": [],
            "_model_module": "@jupyter-widgets/controls",
            "_model_module_version": "1.5.0",
            "_model_name": "HBoxModel",
            "_view_count": null,
            "_view_module": "@jupyter-widgets/controls",
            "_view_module_version": "1.5.0",
            "_view_name": "HBoxView",
            "box_style": "",
            "children": [
              "IPY_MODEL_5252c7027a754ba8aa61193bedcd4dc8",
              "IPY_MODEL_9c480cd1549f476fa1a8265fe7d22c7e",
              "IPY_MODEL_8d5013af07bf4debb577df9d6974a0d6"
            ],
            "layout": "IPY_MODEL_bf5a137bfe814fccb5cccea2da5f4a0e"
          }
        },
        "5252c7027a754ba8aa61193bedcd4dc8": {
          "model_module": "@jupyter-widgets/controls",
          "model_name": "HTMLModel",
          "model_module_version": "1.5.0",
          "state": {
            "_dom_classes": [],
            "_model_module": "@jupyter-widgets/controls",
            "_model_module_version": "1.5.0",
            "_model_name": "HTMLModel",
            "_view_count": null,
            "_view_module": "@jupyter-widgets/controls",
            "_view_module_version": "1.5.0",
            "_view_name": "HTMLView",
            "description": "",
            "description_tooltip": null,
            "layout": "IPY_MODEL_4060bc0183e0455f9d6d280340973a8e",
            "placeholder": "​",
            "style": "IPY_MODEL_a6ff6afb4e0b4de49432b86f1b0344d8",
            "value": "Downloading (…)lve/main/config.json: 100%"
          }
        },
        "9c480cd1549f476fa1a8265fe7d22c7e": {
          "model_module": "@jupyter-widgets/controls",
          "model_name": "FloatProgressModel",
          "model_module_version": "1.5.0",
          "state": {
            "_dom_classes": [],
            "_model_module": "@jupyter-widgets/controls",
            "_model_module_version": "1.5.0",
            "_model_name": "FloatProgressModel",
            "_view_count": null,
            "_view_module": "@jupyter-widgets/controls",
            "_view_module_version": "1.5.0",
            "_view_name": "ProgressView",
            "bar_style": "success",
            "description": "",
            "description_tooltip": null,
            "layout": "IPY_MODEL_5f45786b01a641fc81f9397a3201a1a7",
            "max": 570,
            "min": 0,
            "orientation": "horizontal",
            "style": "IPY_MODEL_3c86c12304af4a098d1a34dbdf7d5687",
            "value": 570
          }
        },
        "8d5013af07bf4debb577df9d6974a0d6": {
          "model_module": "@jupyter-widgets/controls",
          "model_name": "HTMLModel",
          "model_module_version": "1.5.0",
          "state": {
            "_dom_classes": [],
            "_model_module": "@jupyter-widgets/controls",
            "_model_module_version": "1.5.0",
            "_model_name": "HTMLModel",
            "_view_count": null,
            "_view_module": "@jupyter-widgets/controls",
            "_view_module_version": "1.5.0",
            "_view_name": "HTMLView",
            "description": "",
            "description_tooltip": null,
            "layout": "IPY_MODEL_b9292d18694449b3912dc186b40912d2",
            "placeholder": "​",
            "style": "IPY_MODEL_fee66e29cdc5482ebb81bf7259f832c5",
            "value": " 570/570 [00:00&lt;00:00, 33.5kB/s]"
          }
        },
        "bf5a137bfe814fccb5cccea2da5f4a0e": {
          "model_module": "@jupyter-widgets/base",
          "model_name": "LayoutModel",
          "model_module_version": "1.2.0",
          "state": {
            "_model_module": "@jupyter-widgets/base",
            "_model_module_version": "1.2.0",
            "_model_name": "LayoutModel",
            "_view_count": null,
            "_view_module": "@jupyter-widgets/base",
            "_view_module_version": "1.2.0",
            "_view_name": "LayoutView",
            "align_content": null,
            "align_items": null,
            "align_self": null,
            "border": null,
            "bottom": null,
            "display": null,
            "flex": null,
            "flex_flow": null,
            "grid_area": null,
            "grid_auto_columns": null,
            "grid_auto_flow": null,
            "grid_auto_rows": null,
            "grid_column": null,
            "grid_gap": null,
            "grid_row": null,
            "grid_template_areas": null,
            "grid_template_columns": null,
            "grid_template_rows": null,
            "height": null,
            "justify_content": null,
            "justify_items": null,
            "left": null,
            "margin": null,
            "max_height": null,
            "max_width": null,
            "min_height": null,
            "min_width": null,
            "object_fit": null,
            "object_position": null,
            "order": null,
            "overflow": null,
            "overflow_x": null,
            "overflow_y": null,
            "padding": null,
            "right": null,
            "top": null,
            "visibility": null,
            "width": null
          }
        },
        "4060bc0183e0455f9d6d280340973a8e": {
          "model_module": "@jupyter-widgets/base",
          "model_name": "LayoutModel",
          "model_module_version": "1.2.0",
          "state": {
            "_model_module": "@jupyter-widgets/base",
            "_model_module_version": "1.2.0",
            "_model_name": "LayoutModel",
            "_view_count": null,
            "_view_module": "@jupyter-widgets/base",
            "_view_module_version": "1.2.0",
            "_view_name": "LayoutView",
            "align_content": null,
            "align_items": null,
            "align_self": null,
            "border": null,
            "bottom": null,
            "display": null,
            "flex": null,
            "flex_flow": null,
            "grid_area": null,
            "grid_auto_columns": null,
            "grid_auto_flow": null,
            "grid_auto_rows": null,
            "grid_column": null,
            "grid_gap": null,
            "grid_row": null,
            "grid_template_areas": null,
            "grid_template_columns": null,
            "grid_template_rows": null,
            "height": null,
            "justify_content": null,
            "justify_items": null,
            "left": null,
            "margin": null,
            "max_height": null,
            "max_width": null,
            "min_height": null,
            "min_width": null,
            "object_fit": null,
            "object_position": null,
            "order": null,
            "overflow": null,
            "overflow_x": null,
            "overflow_y": null,
            "padding": null,
            "right": null,
            "top": null,
            "visibility": null,
            "width": null
          }
        },
        "a6ff6afb4e0b4de49432b86f1b0344d8": {
          "model_module": "@jupyter-widgets/controls",
          "model_name": "DescriptionStyleModel",
          "model_module_version": "1.5.0",
          "state": {
            "_model_module": "@jupyter-widgets/controls",
            "_model_module_version": "1.5.0",
            "_model_name": "DescriptionStyleModel",
            "_view_count": null,
            "_view_module": "@jupyter-widgets/base",
            "_view_module_version": "1.2.0",
            "_view_name": "StyleView",
            "description_width": ""
          }
        },
        "5f45786b01a641fc81f9397a3201a1a7": {
          "model_module": "@jupyter-widgets/base",
          "model_name": "LayoutModel",
          "model_module_version": "1.2.0",
          "state": {
            "_model_module": "@jupyter-widgets/base",
            "_model_module_version": "1.2.0",
            "_model_name": "LayoutModel",
            "_view_count": null,
            "_view_module": "@jupyter-widgets/base",
            "_view_module_version": "1.2.0",
            "_view_name": "LayoutView",
            "align_content": null,
            "align_items": null,
            "align_self": null,
            "border": null,
            "bottom": null,
            "display": null,
            "flex": null,
            "flex_flow": null,
            "grid_area": null,
            "grid_auto_columns": null,
            "grid_auto_flow": null,
            "grid_auto_rows": null,
            "grid_column": null,
            "grid_gap": null,
            "grid_row": null,
            "grid_template_areas": null,
            "grid_template_columns": null,
            "grid_template_rows": null,
            "height": null,
            "justify_content": null,
            "justify_items": null,
            "left": null,
            "margin": null,
            "max_height": null,
            "max_width": null,
            "min_height": null,
            "min_width": null,
            "object_fit": null,
            "object_position": null,
            "order": null,
            "overflow": null,
            "overflow_x": null,
            "overflow_y": null,
            "padding": null,
            "right": null,
            "top": null,
            "visibility": null,
            "width": null
          }
        },
        "3c86c12304af4a098d1a34dbdf7d5687": {
          "model_module": "@jupyter-widgets/controls",
          "model_name": "ProgressStyleModel",
          "model_module_version": "1.5.0",
          "state": {
            "_model_module": "@jupyter-widgets/controls",
            "_model_module_version": "1.5.0",
            "_model_name": "ProgressStyleModel",
            "_view_count": null,
            "_view_module": "@jupyter-widgets/base",
            "_view_module_version": "1.2.0",
            "_view_name": "StyleView",
            "bar_color": null,
            "description_width": ""
          }
        },
        "b9292d18694449b3912dc186b40912d2": {
          "model_module": "@jupyter-widgets/base",
          "model_name": "LayoutModel",
          "model_module_version": "1.2.0",
          "state": {
            "_model_module": "@jupyter-widgets/base",
            "_model_module_version": "1.2.0",
            "_model_name": "LayoutModel",
            "_view_count": null,
            "_view_module": "@jupyter-widgets/base",
            "_view_module_version": "1.2.0",
            "_view_name": "LayoutView",
            "align_content": null,
            "align_items": null,
            "align_self": null,
            "border": null,
            "bottom": null,
            "display": null,
            "flex": null,
            "flex_flow": null,
            "grid_area": null,
            "grid_auto_columns": null,
            "grid_auto_flow": null,
            "grid_auto_rows": null,
            "grid_column": null,
            "grid_gap": null,
            "grid_row": null,
            "grid_template_areas": null,
            "grid_template_columns": null,
            "grid_template_rows": null,
            "height": null,
            "justify_content": null,
            "justify_items": null,
            "left": null,
            "margin": null,
            "max_height": null,
            "max_width": null,
            "min_height": null,
            "min_width": null,
            "object_fit": null,
            "object_position": null,
            "order": null,
            "overflow": null,
            "overflow_x": null,
            "overflow_y": null,
            "padding": null,
            "right": null,
            "top": null,
            "visibility": null,
            "width": null
          }
        },
        "fee66e29cdc5482ebb81bf7259f832c5": {
          "model_module": "@jupyter-widgets/controls",
          "model_name": "DescriptionStyleModel",
          "model_module_version": "1.5.0",
          "state": {
            "_model_module": "@jupyter-widgets/controls",
            "_model_module_version": "1.5.0",
            "_model_name": "DescriptionStyleModel",
            "_view_count": null,
            "_view_module": "@jupyter-widgets/base",
            "_view_module_version": "1.2.0",
            "_view_name": "StyleView",
            "description_width": ""
          }
        },
        "25b29b4b530b4a60b83894bb56505f12": {
          "model_module": "@jupyter-widgets/controls",
          "model_name": "HBoxModel",
          "model_module_version": "1.5.0",
          "state": {
            "_dom_classes": [],
            "_model_module": "@jupyter-widgets/controls",
            "_model_module_version": "1.5.0",
            "_model_name": "HBoxModel",
            "_view_count": null,
            "_view_module": "@jupyter-widgets/controls",
            "_view_module_version": "1.5.0",
            "_view_name": "HBoxView",
            "box_style": "",
            "children": [
              "IPY_MODEL_f7304516fd3b4f54b249be2151dc46ca",
              "IPY_MODEL_5863f495bac74e1dbe1f84e687d64e86",
              "IPY_MODEL_8617583426ef4ae290b0c4b712976f56"
            ],
            "layout": "IPY_MODEL_ab08a95b36f3424ab1263cf062fc95f9"
          }
        },
        "f7304516fd3b4f54b249be2151dc46ca": {
          "model_module": "@jupyter-widgets/controls",
          "model_name": "HTMLModel",
          "model_module_version": "1.5.0",
          "state": {
            "_dom_classes": [],
            "_model_module": "@jupyter-widgets/controls",
            "_model_module_version": "1.5.0",
            "_model_name": "HTMLModel",
            "_view_count": null,
            "_view_module": "@jupyter-widgets/controls",
            "_view_module_version": "1.5.0",
            "_view_name": "HTMLView",
            "description": "",
            "description_tooltip": null,
            "layout": "IPY_MODEL_814324c80575400cb034feba7f710a86",
            "placeholder": "​",
            "style": "IPY_MODEL_b3248546a405479890552b13e018c088",
            "value": ""
          }
        },
        "5863f495bac74e1dbe1f84e687d64e86": {
          "model_module": "@jupyter-widgets/controls",
          "model_name": "FloatProgressModel",
          "model_module_version": "1.5.0",
          "state": {
            "_dom_classes": [],
            "_model_module": "@jupyter-widgets/controls",
            "_model_module_version": "1.5.0",
            "_model_name": "FloatProgressModel",
            "_view_count": null,
            "_view_module": "@jupyter-widgets/controls",
            "_view_module_version": "1.5.0",
            "_view_name": "ProgressView",
            "bar_style": "success",
            "description": "",
            "description_tooltip": null,
            "layout": "IPY_MODEL_1c57fec622e44110a79848f7247c81c4",
            "max": 1,
            "min": 0,
            "orientation": "horizontal",
            "style": "IPY_MODEL_f61d05fe4e43495cb56347a3af4b056d",
            "value": 0
          }
        },
        "8617583426ef4ae290b0c4b712976f56": {
          "model_module": "@jupyter-widgets/controls",
          "model_name": "HTMLModel",
          "model_module_version": "1.5.0",
          "state": {
            "_dom_classes": [],
            "_model_module": "@jupyter-widgets/controls",
            "_model_module_version": "1.5.0",
            "_model_name": "HTMLModel",
            "_view_count": null,
            "_view_module": "@jupyter-widgets/controls",
            "_view_module_version": "1.5.0",
            "_view_name": "HTMLView",
            "description": "",
            "description_tooltip": null,
            "layout": "IPY_MODEL_a1719cbdafa940fba327408def33b561",
            "placeholder": "​",
            "style": "IPY_MODEL_9d9fd213106d41058d8afb4db6747732",
            "value": " 0/? [02:39&lt;?, ?it/s]"
          }
        },
        "ab08a95b36f3424ab1263cf062fc95f9": {
          "model_module": "@jupyter-widgets/base",
          "model_name": "LayoutModel",
          "model_module_version": "1.2.0",
          "state": {
            "_model_module": "@jupyter-widgets/base",
            "_model_module_version": "1.2.0",
            "_model_name": "LayoutModel",
            "_view_count": null,
            "_view_module": "@jupyter-widgets/base",
            "_view_module_version": "1.2.0",
            "_view_name": "LayoutView",
            "align_content": null,
            "align_items": null,
            "align_self": null,
            "border": null,
            "bottom": null,
            "display": null,
            "flex": null,
            "flex_flow": null,
            "grid_area": null,
            "grid_auto_columns": null,
            "grid_auto_flow": null,
            "grid_auto_rows": null,
            "grid_column": null,
            "grid_gap": null,
            "grid_row": null,
            "grid_template_areas": null,
            "grid_template_columns": null,
            "grid_template_rows": null,
            "height": null,
            "justify_content": null,
            "justify_items": null,
            "left": null,
            "margin": null,
            "max_height": null,
            "max_width": null,
            "min_height": null,
            "min_width": null,
            "object_fit": null,
            "object_position": null,
            "order": null,
            "overflow": null,
            "overflow_x": null,
            "overflow_y": null,
            "padding": null,
            "right": null,
            "top": null,
            "visibility": null,
            "width": null
          }
        },
        "814324c80575400cb034feba7f710a86": {
          "model_module": "@jupyter-widgets/base",
          "model_name": "LayoutModel",
          "model_module_version": "1.2.0",
          "state": {
            "_model_module": "@jupyter-widgets/base",
            "_model_module_version": "1.2.0",
            "_model_name": "LayoutModel",
            "_view_count": null,
            "_view_module": "@jupyter-widgets/base",
            "_view_module_version": "1.2.0",
            "_view_name": "LayoutView",
            "align_content": null,
            "align_items": null,
            "align_self": null,
            "border": null,
            "bottom": null,
            "display": null,
            "flex": null,
            "flex_flow": null,
            "grid_area": null,
            "grid_auto_columns": null,
            "grid_auto_flow": null,
            "grid_auto_rows": null,
            "grid_column": null,
            "grid_gap": null,
            "grid_row": null,
            "grid_template_areas": null,
            "grid_template_columns": null,
            "grid_template_rows": null,
            "height": null,
            "justify_content": null,
            "justify_items": null,
            "left": null,
            "margin": null,
            "max_height": null,
            "max_width": null,
            "min_height": null,
            "min_width": null,
            "object_fit": null,
            "object_position": null,
            "order": null,
            "overflow": null,
            "overflow_x": null,
            "overflow_y": null,
            "padding": null,
            "right": null,
            "top": null,
            "visibility": null,
            "width": null
          }
        },
        "b3248546a405479890552b13e018c088": {
          "model_module": "@jupyter-widgets/controls",
          "model_name": "DescriptionStyleModel",
          "model_module_version": "1.5.0",
          "state": {
            "_model_module": "@jupyter-widgets/controls",
            "_model_module_version": "1.5.0",
            "_model_name": "DescriptionStyleModel",
            "_view_count": null,
            "_view_module": "@jupyter-widgets/base",
            "_view_module_version": "1.2.0",
            "_view_name": "StyleView",
            "description_width": ""
          }
        },
        "1c57fec622e44110a79848f7247c81c4": {
          "model_module": "@jupyter-widgets/base",
          "model_name": "LayoutModel",
          "model_module_version": "1.2.0",
          "state": {
            "_model_module": "@jupyter-widgets/base",
            "_model_module_version": "1.2.0",
            "_model_name": "LayoutModel",
            "_view_count": null,
            "_view_module": "@jupyter-widgets/base",
            "_view_module_version": "1.2.0",
            "_view_name": "LayoutView",
            "align_content": null,
            "align_items": null,
            "align_self": null,
            "border": null,
            "bottom": null,
            "display": null,
            "flex": null,
            "flex_flow": null,
            "grid_area": null,
            "grid_auto_columns": null,
            "grid_auto_flow": null,
            "grid_auto_rows": null,
            "grid_column": null,
            "grid_gap": null,
            "grid_row": null,
            "grid_template_areas": null,
            "grid_template_columns": null,
            "grid_template_rows": null,
            "height": null,
            "justify_content": null,
            "justify_items": null,
            "left": null,
            "margin": null,
            "max_height": null,
            "max_width": null,
            "min_height": null,
            "min_width": null,
            "object_fit": null,
            "object_position": null,
            "order": null,
            "overflow": null,
            "overflow_x": null,
            "overflow_y": null,
            "padding": null,
            "right": null,
            "top": null,
            "visibility": null,
            "width": "20px"
          }
        },
        "f61d05fe4e43495cb56347a3af4b056d": {
          "model_module": "@jupyter-widgets/controls",
          "model_name": "ProgressStyleModel",
          "model_module_version": "1.5.0",
          "state": {
            "_model_module": "@jupyter-widgets/controls",
            "_model_module_version": "1.5.0",
            "_model_name": "ProgressStyleModel",
            "_view_count": null,
            "_view_module": "@jupyter-widgets/base",
            "_view_module_version": "1.2.0",
            "_view_name": "StyleView",
            "bar_color": null,
            "description_width": ""
          }
        },
        "a1719cbdafa940fba327408def33b561": {
          "model_module": "@jupyter-widgets/base",
          "model_name": "LayoutModel",
          "model_module_version": "1.2.0",
          "state": {
            "_model_module": "@jupyter-widgets/base",
            "_model_module_version": "1.2.0",
            "_model_name": "LayoutModel",
            "_view_count": null,
            "_view_module": "@jupyter-widgets/base",
            "_view_module_version": "1.2.0",
            "_view_name": "LayoutView",
            "align_content": null,
            "align_items": null,
            "align_self": null,
            "border": null,
            "bottom": null,
            "display": null,
            "flex": null,
            "flex_flow": null,
            "grid_area": null,
            "grid_auto_columns": null,
            "grid_auto_flow": null,
            "grid_auto_rows": null,
            "grid_column": null,
            "grid_gap": null,
            "grid_row": null,
            "grid_template_areas": null,
            "grid_template_columns": null,
            "grid_template_rows": null,
            "height": null,
            "justify_content": null,
            "justify_items": null,
            "left": null,
            "margin": null,
            "max_height": null,
            "max_width": null,
            "min_height": null,
            "min_width": null,
            "object_fit": null,
            "object_position": null,
            "order": null,
            "overflow": null,
            "overflow_x": null,
            "overflow_y": null,
            "padding": null,
            "right": null,
            "top": null,
            "visibility": null,
            "width": null
          }
        },
        "9d9fd213106d41058d8afb4db6747732": {
          "model_module": "@jupyter-widgets/controls",
          "model_name": "DescriptionStyleModel",
          "model_module_version": "1.5.0",
          "state": {
            "_model_module": "@jupyter-widgets/controls",
            "_model_module_version": "1.5.0",
            "_model_name": "DescriptionStyleModel",
            "_view_count": null,
            "_view_module": "@jupyter-widgets/base",
            "_view_module_version": "1.2.0",
            "_view_name": "StyleView",
            "description_width": ""
          }
        }
      }
    },
    "accelerator": "GPU"
  },
  "cells": [
    {
      "cell_type": "markdown",
      "metadata": {
        "id": "view-in-github",
        "colab_type": "text"
      },
      "source": [
        "<a href=\"https://colab.research.google.com/github/ritikraj6120/bert-ensembling/blob/main/Copy_of_BERT_Word_Embeddings_using_torch.ipynb\" target=\"_parent\"><img src=\"https://colab.research.google.com/assets/colab-badge.svg\" alt=\"Open In Colab\"/></a>"
      ]
    },
    {
      "cell_type": "markdown",
      "metadata": {
        "id": "dYapTjoYa0kO"
      },
      "source": [
        "# Introduction\n",
        "\n"
      ]
    },
    {
      "cell_type": "markdown",
      "metadata": {
        "id": "Pqa-7WXBAw8q"
      },
      "source": [
        "# 1. Loading Pre-Trained BERT"
      ]
    },
    {
      "cell_type": "code",
      "source": [
        "from google.colab import drive\n",
        "drive.mount('/content/drive')"
      ],
      "metadata": {
        "colab": {
          "base_uri": "https://localhost:8080/"
        },
        "id": "GSCVnBY0UYdz",
        "outputId": "d140463f-828c-4f70-90db-8b928608a763"
      },
      "execution_count": null,
      "outputs": [
        {
          "output_type": "stream",
          "name": "stdout",
          "text": [
            "Mounted at /content/drive\n"
          ]
        }
      ]
    },
    {
      "cell_type": "code",
      "source": [
        "%cd /content/drive/MyDrive/Colab Notebooks/imdb_dataset"
      ],
      "metadata": {
        "colab": {
          "base_uri": "https://localhost:8080/"
        },
        "id": "KDFX8uvPUens",
        "outputId": "415f115a-0787-44cf-e069-33a606b9be8f"
      },
      "execution_count": null,
      "outputs": [
        {
          "output_type": "stream",
          "name": "stdout",
          "text": [
            "/content/drive/MyDrive/Colab Notebooks/imdb_dataset\n"
          ]
        }
      ]
    },
    {
      "cell_type": "code",
      "source": [
        "import numpy as np\n",
        "import pandas as pd\n",
        "import matplotlib.pyplot as plt\n",
        "from tqdm.notebook import tqdm\n",
        "tqdm().pandas()"
      ],
      "metadata": {
        "colab": {
          "base_uri": "https://localhost:8080/",
          "height": 49,
          "referenced_widgets": [
            "25b29b4b530b4a60b83894bb56505f12",
            "f7304516fd3b4f54b249be2151dc46ca",
            "5863f495bac74e1dbe1f84e687d64e86",
            "8617583426ef4ae290b0c4b712976f56",
            "ab08a95b36f3424ab1263cf062fc95f9",
            "814324c80575400cb034feba7f710a86",
            "b3248546a405479890552b13e018c088",
            "1c57fec622e44110a79848f7247c81c4",
            "f61d05fe4e43495cb56347a3af4b056d",
            "a1719cbdafa940fba327408def33b561",
            "9d9fd213106d41058d8afb4db6747732"
          ]
        },
        "id": "JQpmvhOwUiQQ",
        "outputId": "332d8fc2-b0ec-4984-e430-8dea850e50dd"
      },
      "execution_count": 1,
      "outputs": [
        {
          "output_type": "display_data",
          "data": {
            "text/plain": [
              "0it [00:00, ?it/s]"
            ],
            "application/vnd.jupyter.widget-view+json": {
              "version_major": 2,
              "version_minor": 0,
              "model_id": "25b29b4b530b4a60b83894bb56505f12"
            }
          },
          "metadata": {}
        }
      ]
    },
    {
      "cell_type": "code",
      "source": [
        "wholeset=pd.read_csv(\"cleaned_imdb_datset.csv\")"
      ],
      "metadata": {
        "id": "ZBdF83Q2UnzC"
      },
      "execution_count": null,
      "outputs": []
    },
    {
      "cell_type": "code",
      "source": [
        "df=wholeset.head(100)"
      ],
      "metadata": {
        "id": "63xFuvNoUo8o"
      },
      "execution_count": null,
      "outputs": []
    },
    {
      "cell_type": "code",
      "metadata": {
        "id": "1RfUN_KolV-f",
        "colab": {
          "base_uri": "https://localhost:8080/"
        },
        "outputId": "4e59f40b-04d1-418c-fa2e-5d8fd84c1b63"
      },
      "source": [
        "!pip install transformers"
      ],
      "execution_count": null,
      "outputs": [
        {
          "output_type": "stream",
          "name": "stdout",
          "text": [
            "Looking in indexes: https://pypi.org/simple, https://us-python.pkg.dev/colab-wheels/public/simple/\n",
            "Collecting transformers\n",
            "  Downloading transformers-4.28.1-py3-none-any.whl (7.0 MB)\n",
            "\u001b[2K     \u001b[90m━━━━━━━━━━━━━━━━━━━━━━━━━━━━━━━━━━━━━━━━\u001b[0m \u001b[32m7.0/7.0 MB\u001b[0m \u001b[31m47.0 MB/s\u001b[0m eta \u001b[36m0:00:00\u001b[0m\n",
            "\u001b[?25hRequirement already satisfied: requests in /usr/local/lib/python3.9/dist-packages (from transformers) (2.27.1)\n",
            "Requirement already satisfied: tqdm>=4.27 in /usr/local/lib/python3.9/dist-packages (from transformers) (4.65.0)\n",
            "Collecting tokenizers!=0.11.3,<0.14,>=0.11.1\n",
            "  Downloading tokenizers-0.13.3-cp39-cp39-manylinux_2_17_x86_64.manylinux2014_x86_64.whl (7.8 MB)\n",
            "\u001b[2K     \u001b[90m━━━━━━━━━━━━━━━━━━━━━━━━━━━━━━━━━━━━━━━━\u001b[0m \u001b[32m7.8/7.8 MB\u001b[0m \u001b[31m107.6 MB/s\u001b[0m eta \u001b[36m0:00:00\u001b[0m\n",
            "\u001b[?25hRequirement already satisfied: filelock in /usr/local/lib/python3.9/dist-packages (from transformers) (3.12.0)\n",
            "Requirement already satisfied: pyyaml>=5.1 in /usr/local/lib/python3.9/dist-packages (from transformers) (6.0)\n",
            "Requirement already satisfied: packaging>=20.0 in /usr/local/lib/python3.9/dist-packages (from transformers) (23.1)\n",
            "Requirement already satisfied: numpy>=1.17 in /usr/local/lib/python3.9/dist-packages (from transformers) (1.22.4)\n",
            "Requirement already satisfied: regex!=2019.12.17 in /usr/local/lib/python3.9/dist-packages (from transformers) (2022.10.31)\n",
            "Collecting huggingface-hub<1.0,>=0.11.0\n",
            "  Downloading huggingface_hub-0.14.1-py3-none-any.whl (224 kB)\n",
            "\u001b[2K     \u001b[90m━━━━━━━━━━━━━━━━━━━━━━━━━━━━━━━━━━━━━━\u001b[0m \u001b[32m224.5/224.5 kB\u001b[0m \u001b[31m27.2 MB/s\u001b[0m eta \u001b[36m0:00:00\u001b[0m\n",
            "\u001b[?25hRequirement already satisfied: fsspec in /usr/local/lib/python3.9/dist-packages (from huggingface-hub<1.0,>=0.11.0->transformers) (2023.4.0)\n",
            "Requirement already satisfied: typing-extensions>=3.7.4.3 in /usr/local/lib/python3.9/dist-packages (from huggingface-hub<1.0,>=0.11.0->transformers) (4.5.0)\n",
            "Requirement already satisfied: charset-normalizer~=2.0.0 in /usr/local/lib/python3.9/dist-packages (from requests->transformers) (2.0.12)\n",
            "Requirement already satisfied: certifi>=2017.4.17 in /usr/local/lib/python3.9/dist-packages (from requests->transformers) (2022.12.7)\n",
            "Requirement already satisfied: urllib3<1.27,>=1.21.1 in /usr/local/lib/python3.9/dist-packages (from requests->transformers) (1.26.15)\n",
            "Requirement already satisfied: idna<4,>=2.5 in /usr/local/lib/python3.9/dist-packages (from requests->transformers) (3.4)\n",
            "Installing collected packages: tokenizers, huggingface-hub, transformers\n",
            "Successfully installed huggingface-hub-0.14.1 tokenizers-0.13.3 transformers-4.28.1\n"
          ]
        }
      ]
    },
    {
      "cell_type": "code",
      "source": [
        "from transformers import BertTokenizer\n",
        "tokenizer = BertTokenizer.from_pretrained('bert-base-uncased')"
      ],
      "metadata": {
        "colab": {
          "base_uri": "https://localhost:8080/",
          "height": 113,
          "referenced_widgets": [
            "2a1822777ac84ab8b21688555932cbfa",
            "d76a0dc883e1415a83dd73801946a4af",
            "679fec5fcb9d47c0888243b845b06053",
            "d34a55fca83a449d9a0088b039f42a1f",
            "5f2ceee2c8934691bbc349f9fabe1892",
            "95c2831a6aec4553924aa7581874237b",
            "2da6faa6f5f74b7d9a34c914c69d15d4",
            "9abadc7cd5be4698ac89770c21a37988",
            "54a9df705604437d8b5a7ba6166d91ac",
            "24d309c2889d49dea58ed568a88462df",
            "07e99d77f0b046eea1f346f7abc042c9",
            "44852b083f094f829c97ad81961c0879",
            "f9d0a998039a4091a3efd178afb73fc8",
            "2235d40cf03646139905a45efcd8939b",
            "f40c8fdd1ac04ea49ffa10b598ed01db",
            "db6f3e600f11448d8c01cec05a6e9a47",
            "44820268ab8845f6aa8a6236f70fbca0",
            "235f854ae24a4367ba30f2cbc0d8dbe7",
            "4b9e2c7e0c714df6bd222aae9aecb7a6",
            "5102912f579e4f1b92f1b09b56bff5cb",
            "4a47b4099c23410ebd166e4618bb35fd",
            "d5264da01ef54bf49408231bc5516d4d",
            "e5921b3d9e9e469db2e3e0c9047c006c",
            "5252c7027a754ba8aa61193bedcd4dc8",
            "9c480cd1549f476fa1a8265fe7d22c7e",
            "8d5013af07bf4debb577df9d6974a0d6",
            "bf5a137bfe814fccb5cccea2da5f4a0e",
            "4060bc0183e0455f9d6d280340973a8e",
            "a6ff6afb4e0b4de49432b86f1b0344d8",
            "5f45786b01a641fc81f9397a3201a1a7",
            "3c86c12304af4a098d1a34dbdf7d5687",
            "b9292d18694449b3912dc186b40912d2",
            "fee66e29cdc5482ebb81bf7259f832c5"
          ]
        },
        "id": "w_Fwje-0tGup",
        "outputId": "bb7652bb-9177-4fe9-a7f8-c5f5f0758f7f"
      },
      "execution_count": null,
      "outputs": [
        {
          "output_type": "display_data",
          "data": {
            "text/plain": [
              "Downloading (…)solve/main/vocab.txt:   0%|          | 0.00/232k [00:00<?, ?B/s]"
            ],
            "application/vnd.jupyter.widget-view+json": {
              "version_major": 2,
              "version_minor": 0,
              "model_id": "2a1822777ac84ab8b21688555932cbfa"
            }
          },
          "metadata": {}
        },
        {
          "output_type": "display_data",
          "data": {
            "text/plain": [
              "Downloading (…)okenizer_config.json:   0%|          | 0.00/28.0 [00:00<?, ?B/s]"
            ],
            "application/vnd.jupyter.widget-view+json": {
              "version_major": 2,
              "version_minor": 0,
              "model_id": "44852b083f094f829c97ad81961c0879"
            }
          },
          "metadata": {}
        },
        {
          "output_type": "display_data",
          "data": {
            "text/plain": [
              "Downloading (…)lve/main/config.json:   0%|          | 0.00/570 [00:00<?, ?B/s]"
            ],
            "application/vnd.jupyter.widget-view+json": {
              "version_major": 2,
              "version_minor": 0,
              "model_id": "e5921b3d9e9e469db2e3e0c9047c006c"
            }
          },
          "metadata": {}
        }
      ]
    },
    {
      "cell_type": "code",
      "source": [
        "# text_list = ['hello world and bye world!','hello world!']"
      ],
      "metadata": {
        "id": "CNHVsNoYxJiK"
      },
      "execution_count": null,
      "outputs": []
    },
    {
      "cell_type": "code",
      "source": [
        "# max_len=0\n",
        "# for ind in df.index:\n",
        "#     tokens = tokenizer.tokenize(df['content'][ind])\n",
        "#     max_len=max(max_len,len(tokens)+2)\n",
        "#     print(len(tokens))"
      ],
      "metadata": {
        "colab": {
          "base_uri": "https://localhost:8080/"
        },
        "id": "3QRI0HL3Z8rm",
        "outputId": "55242f83-794d-4f80-b264-a340f77afc07"
      },
      "execution_count": null,
      "outputs": [
        {
          "output_type": "stream",
          "name": "stdout",
          "text": [
            "170\n",
            "491\n",
            "78\n",
            "315\n",
            "328\n"
          ]
        }
      ]
    },
    {
      "cell_type": "code",
      "source": [
        "content_list=df[\"content\"].tolist()"
      ],
      "metadata": {
        "id": "TGb-7mzccWDD"
      },
      "execution_count": null,
      "outputs": []
    },
    {
      "cell_type": "code",
      "source": [
        "token = tokenizer.__call__(content_list,add_special_tokens=True,padding='max_length',max_length=128,truncation = True,return_tensors='pt')"
      ],
      "metadata": {
        "id": "6QcOQCN5tKk3"
      },
      "execution_count": null,
      "outputs": []
    },
    {
      "cell_type": "code",
      "source": [
        "token.keys()"
      ],
      "metadata": {
        "colab": {
          "base_uri": "https://localhost:8080/"
        },
        "id": "9hqXoq8Quf54",
        "outputId": "bdc45859-9007-4877-df67-60297521edca"
      },
      "execution_count": null,
      "outputs": [
        {
          "output_type": "execute_result",
          "data": {
            "text/plain": [
              "dict_keys(['input_ids', 'token_type_ids', 'attention_mask'])"
            ]
          },
          "metadata": {},
          "execution_count": 10
        }
      ]
    },
    {
      "cell_type": "code",
      "source": [
        "# token.input_ids[0]"
      ],
      "metadata": {
        "colab": {
          "base_uri": "https://localhost:8080/"
        },
        "id": "nYk99bDauDHt",
        "outputId": "d44a44f5-16ca-40fd-da69-5cca0bff708c"
      },
      "execution_count": null,
      "outputs": [
        {
          "output_type": "execute_result",
          "data": {
            "text/plain": [
              "tensor([  101,  2821,  2053,  2063,  2028,  1997,  2122,  2886,  1997,  1996,\n",
              "         2900,  2229,  5745,  2611,  9587,  5737,  1045,  2123,  1056,  2130,\n",
              "         2128,  4168, 14905,  2129, 23624,  1045,  2310,  2464,  2089,  2497,\n",
              "         2009,  5271,  2021,  2025,  2000,  2033,  2025, 11228,  2072,  2012,\n",
              "         2035,  1996,  2900,  2229,  5469,  9587,  5737,  2024,  2031,  2042,\n",
              "         2310,  3089,  2714,  8254,  2278,  1996,  2034,  2028,  1997,  2122,\n",
              "         2036,  1996,  4139,  1997,  1996,  4845,  1045,  2031,  2464,  2008,\n",
              "         4139,  2104,  3496,  2061, 23624,  2051,  1999,  2061, 23624,  5469,\n",
              "         9587,  5737,  3526, 20846,  3496,  2003,  2036,  2025,  2232,  2047,\n",
              "         1996,  3689,  2102,  1997,  1996,  3124,  2131,  2718,  2011,  1037,\n",
              "         3345, 17704, 11891,  1045,  2812,  2009,  3768,  2035,  3689,  2102,\n",
              "         7929, 16215,  2072,  2003,  2005,  4845,  2403,  2385,  2040,  4952,\n",
              "         2000,  2900,  2229,  2600,  1998,  2228,  2027,   102])"
            ]
          },
          "metadata": {},
          "execution_count": 196
        }
      ]
    },
    {
      "cell_type": "code",
      "metadata": {
        "id": "Mq2PKplWfbFv"
      },
      "source": [
        "# Load pre-trained model (weights)\n",
        "from transformers import BertModel\n",
        "model = BertModel.from_pretrained('bert-base-uncased',\n",
        "                                  output_hidden_states = True, # Whether the model returns all hidden-states.\n",
        "                                  )\n",
        "\n",
        "# Put the model in \"evaluation\" mode, meaning feed-forward operation.\n",
        "model.eval()\n"
      ],
      "execution_count": null,
      "outputs": []
    },
    {
      "cell_type": "code",
      "source": [
        "import torch"
      ],
      "metadata": {
        "id": "fo0seU-H5Hz-"
      },
      "execution_count": null,
      "outputs": []
    },
    {
      "cell_type": "markdown",
      "metadata": {
        "id": "G4Qa5KkkM2Aq"
      },
      "source": [
        "Next, let's evaluate BERT on our example text, and fetch the hidden states of the network!\n",
        "\n",
        "*Side note: `torch.no_grad` tells PyTorch not to construct the compute graph during this forward pass (since we won't be running backprop here)--this just reduces memory consumption and speeds things up a little.*\n"
      ]
    },
    {
      "cell_type": "code",
      "metadata": {
        "id": "nN0QTZwiMzeq"
      },
      "source": [
        "# Run the text through BERT, and collect all of the hidden states produced\n",
        "# from all 12 layers. \n",
        "with torch.no_grad():\n",
        "\n",
        "    outputs = model(**token)\n",
        "\n",
        "    # Evaluating the model will return a different number of objects based on \n",
        "    # how it's  configured in the `from_pretrained` call earlier. In this case, \n",
        "    # becase we set `output_hidden_states = True`, the third item will be the \n",
        "    # hidden states from all layers. See the documentation for more details:\n",
        "    # https://huggingface.co/transformers/model_doc/bert.html#bertmodel\n",
        "    hidden_states = outputs[2]"
      ],
      "execution_count": null,
      "outputs": []
    },
    {
      "cell_type": "markdown",
      "metadata": {
        "id": "UeQNEFbUgMSf"
      },
      "source": [
        "## 3.2. Understanding the Output\n"
      ]
    },
    {
      "cell_type": "markdown",
      "metadata": {
        "id": "HKTlTS_sfuAe"
      },
      "source": [
        "\n",
        "The full set of hidden states for this model, stored in the object `hidden_states`, is a little dizzying. This object has four dimensions, in the following order:\n",
        "\n",
        "1. The layer number (13 layers)\n",
        "2. The batch number (1 sentence)\n",
        "3. The word / token number (22 tokens in our sentence)\n",
        "4. The hidden unit / feature number (768 features)\n",
        "\n",
        "Wait, 13 layers? Doesn't BERT only have 12? It's 13 because the first element is the input embeddings, the rest is the outputs of each of BERT's 12 layers. \n",
        "\n",
        "That’s 219,648 unique values just to represent our one sentence! \n",
        "\n",
        "The second dimension, the batch size, is used when submitting multiple sentences to the model at once; here, though, we just have one example sentence."
      ]
    },
    {
      "cell_type": "code",
      "metadata": {
        "id": "eI_uxiW7eRWA",
        "colab": {
          "base_uri": "https://localhost:8080/"
        },
        "outputId": "142e8da9-bdb7-4411-a4ad-480b444e1d69"
      },
      "source": [
        "print (\"Number of layers:\", len(hidden_states), \"  (initial embeddings + 12 BERT layers)\")\n",
        "layer_i = 0\n",
        "\n",
        "print (\"Number of batches:\", len(hidden_states[layer_i]))\n",
        "batch_i = 0\n",
        "\n",
        "print (\"Number of tokens:\", len(hidden_states[layer_i][batch_i]))\n",
        "token_i = 0\n",
        "\n",
        "print (\"Number of hidden units:\", len(hidden_states[layer_i][batch_i][token_i]))"
      ],
      "execution_count": null,
      "outputs": [
        {
          "output_type": "stream",
          "name": "stdout",
          "text": [
            "Number of layers: 13   (initial embeddings + 12 BERT layers)\n",
            "Number of batches: 1000\n",
            "Number of tokens: 128\n",
            "Number of hidden units: 768\n"
          ]
        }
      ]
    },
    {
      "cell_type": "markdown",
      "metadata": {
        "id": "n194RcReDYfw"
      },
      "source": [
        "Grouping the values by layer makes sense for the model, but for our purposes we want it grouped by token. \n",
        "\n",
        "Current dimensions:\n",
        "\n",
        "`[# layers, # batches, # tokens, # features]`\n",
        "\n",
        "Desired dimensions:\n",
        "\n",
        "`[# tokens, # layers, # features]`\n",
        "\n",
        "Luckily, PyTorch includes the `permute` function for easily rearranging the dimensions of a tensor. \n",
        "\n",
        "However, the first dimension is currently a Python list! "
      ]
    },
    {
      "cell_type": "code",
      "metadata": {
        "id": "0CcY_oRwcHlS",
        "colab": {
          "base_uri": "https://localhost:8080/"
        },
        "outputId": "36dc86ff-b8ab-4352-bba3-ff3dedf592ae"
      },
      "source": [
        "# `hidden_states` is a Python list.\n",
        "print('Type of hidden_states: ', type(hidden_states))\n",
        "\n",
        "# Each layer in the list is a torch tensor.\n",
        "print('Tensor shape for each layer: ', hidden_states[0].size())"
      ],
      "execution_count": null,
      "outputs": [
        {
          "output_type": "stream",
          "name": "stdout",
          "text": [
            "Type of hidden_states:  <class 'tuple'>\n",
            "Tensor shape for each layer:  torch.Size([1000, 128, 768])\n"
          ]
        }
      ]
    },
    {
      "cell_type": "markdown",
      "metadata": {
        "id": "1yXZjLSke3F0"
      },
      "source": [
        "Let's combine the layers to make this one whole big tensor."
      ]
    },
    {
      "cell_type": "code",
      "metadata": {
        "id": "pTJV8AFFcLbL",
        "colab": {
          "base_uri": "https://localhost:8080/"
        },
        "outputId": "ac5f4d4d-d4a3-476f-c551-5033690826c2"
      },
      "source": [
        "# Concatenate the tensors for all layers. We use `stack` here to\n",
        "# create a new dimension in the tensor.\n",
        "token_embeddings = torch.stack(hidden_states, dim=0)\n",
        "token_embeddings.size()"
      ],
      "execution_count": null,
      "outputs": [
        {
          "output_type": "execute_result",
          "data": {
            "text/plain": [
              "torch.Size([13, 100, 128, 768])"
            ]
          },
          "metadata": {},
          "execution_count": 14
        }
      ]
    },
    {
      "cell_type": "code",
      "source": [
        "permuted_token_embeddings = token_embeddings.permute(1,0,2,3)\n",
        "print(type(permuted_token_embeddings))\n",
        "permuted_token_embeddings.size()"
      ],
      "metadata": {
        "colab": {
          "base_uri": "https://localhost:8080/"
        },
        "id": "6RvRbA2aCHbZ",
        "outputId": "7e4aac44-23f3-4826-8e42-548654c6e292"
      },
      "execution_count": null,
      "outputs": [
        {
          "output_type": "stream",
          "name": "stdout",
          "text": [
            "<class 'torch.Tensor'>\n"
          ]
        },
        {
          "output_type": "execute_result",
          "data": {
            "text/plain": [
              "torch.Size([100, 13, 128, 768])"
            ]
          },
          "metadata": {},
          "execution_count": 15
        }
      ]
    },
    {
      "cell_type": "code",
      "source": [
        "np.save('permuted_token_embeddings_100_torch_date_27-04-2023.npy', permuted_token_embeddings)"
      ],
      "metadata": {
        "id": "G1eA3wyEkMZn"
      },
      "execution_count": null,
      "outputs": []
    },
    {
      "cell_type": "markdown",
      "metadata": {
        "id": "mQaco6jRLkXn"
      },
      "source": [
        "### Sentence Vectors\n"
      ]
    },
    {
      "cell_type": "markdown",
      "metadata": {
        "id": "uuul6iQqnXT2"
      },
      "source": [
        "\n",
        "To get a single vector for our entire sentence we have multiple application-dependent strategies, but a simple approach is to average the second to last hiden layer of each token producing a single 768 length vector."
      ]
    },
    {
      "cell_type": "code",
      "source": [
        "import numpy as np\n",
        "# a=[[1.0,2,3],\n",
        "#    [4,5,6]\n",
        "#    ]\n",
        "# arr = np.array(a)\n",
        "# t = torch.from_numpy(arr)\n",
        "# print(t)\n",
        "# sentence_embedding = torch.mean(t, dim=0)\n",
        "# print(len(sentence_embedding))\n",
        "# # Calculate the average of all 22 token vectors.\n",
        "# # sentence_embedding = torch.mean(token_vecs, dim=0)"
      ],
      "metadata": {
        "id": "6_j8vodzGbv2"
      },
      "execution_count": null,
      "outputs": []
    },
    {
      "cell_type": "code",
      "metadata": {
        "id": "Zn0n2S-FWZih"
      },
      "source": [
        "rows=len(permuted_token_embeddings)\n",
        "sentence_embedding = np.zeros((rows, 768), dtype=float)\n",
        "for i in range(rows):\n",
        "  hidden_states = permuted_token_embeddings[i] # 13, 6, 768\n",
        "  # `second_last_hidden_state` is a tensor with shape [6 x 768]\n",
        "  second_last_hidden_state = hidden_states[-2]\n",
        "  # Calculate the average of all 6 token vectors.\n",
        "  sentence_embedding[i]=torch.mean(second_last_hidden_state, dim=0).numpy()"
      ],
      "execution_count": null,
      "outputs": []
    },
    {
      "cell_type": "code",
      "metadata": {
        "id": "MQv0FL8VWadn",
        "colab": {
          "base_uri": "https://localhost:8080/"
        },
        "outputId": "cc254a8b-710f-444d-d91e-3073798a19d4"
      },
      "source": [
        "print (\"Our final sentence embedding vector of shape:\", type(sentence_embedding))"
      ],
      "execution_count": null,
      "outputs": [
        {
          "output_type": "stream",
          "name": "stdout",
          "text": [
            "Our final sentence embedding vector of shape: <class 'numpy.ndarray'>\n"
          ]
        }
      ]
    },
    {
      "cell_type": "code",
      "source": [
        "np.save('embeddings_1000_torch_date_25-04-2023.npy', sentence_embedding)"
      ],
      "metadata": {
        "id": "kuh3JdVXmpz2"
      },
      "execution_count": null,
      "outputs": []
    },
    {
      "cell_type": "code",
      "source": [
        "sentence_embedding = np.load('embeddings_1000_torch_date_25-04-2023.npy')"
      ],
      "metadata": {
        "id": "PpcOEddRHTWr"
      },
      "execution_count": null,
      "outputs": []
    },
    {
      "cell_type": "code",
      "source": [
        "from sklearn.model_selection import train_test_split\n",
        "# rating=t = tf.convert_to_tensor(df[\"rating\"])\n",
        "# print(type(rating))\n",
        "train_review, test_review, train_rating, test_rating = train_test_split(sentence_embedding, df['rating'] , test_size=0.2, random_state=42)"
      ],
      "metadata": {
        "id": "FWJDLdG_hA9s"
      },
      "execution_count": null,
      "outputs": []
    },
    {
      "cell_type": "code",
      "source": [
        "import numpy as np\n",
        "import tensorflow as tf\n",
        "from tensorflow.keras.layers import (Input, Embedding, Conv1D, Activation, GlobalMaxPool1D, BatchNormalization,AveragePooling1D,\n",
        "                          Concatenate, LSTM,GRU , Flatten, Dropout, Dense)\n",
        "from sklearn.model_selection import train_test_split\n",
        "from sklearn.utils import shuffle\n",
        "from tensorflow.keras.models import Model, Sequential\n",
        "from tensorflow.keras.initializers import Constant\n",
        "from tensorflow.keras.metrics import top_k_categorical_accuracy\n",
        "from tensorflow.keras.utils import to_categorical, Sequence, plot_model\n",
        "from tensorflow.keras.layers import Bidirectional"
      ],
      "metadata": {
        "id": "lSBzjAfHhP7-"
      },
      "execution_count": null,
      "outputs": []
    },
    {
      "cell_type": "code",
      "source": [
        "# reshaping input data for lstm, gru, bilstm into 3d array as these models require 3d input array\n",
        "train_review = tf.reshape(train_review, shape=(tf.shape(train_review)[0], 1, -1))\n",
        "test_review = tf.reshape(test_review, shape=(tf.shape(test_review)[0], 1, -1))"
      ],
      "metadata": {
        "id": "GO_F1bMWhTQJ"
      },
      "execution_count": null,
      "outputs": []
    },
    {
      "cell_type": "markdown",
      "source": [
        "# **LSTM MODEL**"
      ],
      "metadata": {
        "id": "ZstAGm-khXV-"
      }
    },
    {
      "cell_type": "code",
      "source": [
        "train_review.shape"
      ],
      "metadata": {
        "colab": {
          "base_uri": "https://localhost:8080/"
        },
        "id": "EZs8bSTidKvw",
        "outputId": "cc6b803f-ab7d-4032-a1b7-530a07048bb7"
      },
      "execution_count": null,
      "outputs": [
        {
          "output_type": "execute_result",
          "data": {
            "text/plain": [
              "TensorShape([800, 1, 768])"
            ]
          },
          "metadata": {},
          "execution_count": 10
        }
      ]
    },
    {
      "cell_type": "code",
      "source": [
        "max_length=128\n",
        "num_classes=2\n",
        "embed_dim=768\n",
        "num_words=30000\n",
        "#  create a sample input tensor with 768 input dimensions\n",
        "input_tensor = tf.keras.Input(shape=(768,))\n",
        "# shape is (None,768)\n",
        "\n",
        "# reshape the input tensor to have 1 timestep\n",
        "reshaped_input = tf.reshape(input_tensor, shape=(-1, 1, 768))\n",
        "# shape is (None,1,768)\n",
        "\n",
        "# pass the reshaped input tensor to the LSTM layer\n",
        "# output_tensor = lstm_layer(reshaped_input)\n",
        "\n",
        "# sequence_input = Input(shape=(embed_dim),name='input_layer')\n",
        "lstm1 = LSTM(500, return_sequences=True)(reshaped_input)\n",
        "drop3 = Dropout(0.2)(lstm1)\n",
        "lstm2 = LSTM(200)(drop3)\n",
        "drop4 = Dropout(0.2)(lstm2)\n",
        "out3 = Dense(num_classes, activation='softmax',name='last_dense_layer')(drop4)\n",
        "lstm_model = Model(reshaped_input,out3)\n",
        "lstm_model.compile(loss='sparse_categorical_crossentropy', optimizer='adam', metrics=['accuracy'])\n",
        "lstm_model.summary()\n",
        "# out3_output = lstm_model.get_layer('last_dense_layer')(lstm_model.layers[-2].output)\n",
        "# out3_model = Model(inputs=lstm_model.input, outputs=out3_output)\n",
        "# Define the number of time steps and the number of features\n",
        "# n_timesteps = 10\n",
        "# n_features = 1\n",
        "\n",
        "# Define the LSTM model\n",
        "# model = Sequential()\n",
        "# model.add(LSTM(50, input_shape=(n_timesteps, n_features)))\n",
        "# model.add(Dense(1))\n",
        "# model.compile(loss='mse', optimizer='adam')\n",
        "\n",
        "# # Train the LSTM model\n",
        "# model.fit(X_train, y_train, epochs=50, batch_size=32, validation_data=(X_test, y_test))"
      ],
      "metadata": {
        "colab": {
          "base_uri": "https://localhost:8080/"
        },
        "id": "qPjLjRh5hZ8Q",
        "outputId": "e678982f-83f1-4144-c644-17966634379c"
      },
      "execution_count": null,
      "outputs": [
        {
          "output_type": "stream",
          "name": "stdout",
          "text": [
            "Model: \"model\"\n",
            "_________________________________________________________________\n",
            " Layer (type)                Output Shape              Param #   \n",
            "=================================================================\n",
            " input_2 (InputLayer)        [(None, 1, 768)]          0         \n",
            "                                                                 \n",
            " lstm (LSTM)                 (None, 1, 500)            2538000   \n",
            "                                                                 \n",
            " dropout (Dropout)           (None, 1, 500)            0         \n",
            "                                                                 \n",
            " lstm_1 (LSTM)               (None, 200)               560800    \n",
            "                                                                 \n",
            " dropout_1 (Dropout)         (None, 200)               0         \n",
            "                                                                 \n",
            " last_dense_layer (Dense)    (None, 2)                 402       \n",
            "                                                                 \n",
            "=================================================================\n",
            "Total params: 3,099,202\n",
            "Trainable params: 3,099,202\n",
            "Non-trainable params: 0\n",
            "_________________________________________________________________\n"
          ]
        }
      ]
    },
    {
      "cell_type": "code",
      "source": [
        "lstm_history = lstm_model.fit(train_review, train_rating, batch_size=64,verbose=1,epochs=5, \n",
        "                            validation_split=0.1)"
      ],
      "metadata": {
        "colab": {
          "base_uri": "https://localhost:8080/"
        },
        "id": "D80n3rqnhanA",
        "outputId": "5c2c90b5-8a04-4c8d-c2e7-e9f5c74009ec"
      },
      "execution_count": null,
      "outputs": [
        {
          "output_type": "stream",
          "name": "stdout",
          "text": [
            "Epoch 1/5\n",
            "12/12 [==============================] - 7s 161ms/step - loss: 0.6854 - accuracy: 0.5208 - val_loss: 0.6674 - val_accuracy: 0.6250\n",
            "Epoch 2/5\n",
            "12/12 [==============================] - 1s 71ms/step - loss: 0.6348 - accuracy: 0.6444 - val_loss: 0.7027 - val_accuracy: 0.5875\n",
            "Epoch 3/5\n",
            "12/12 [==============================] - 1s 74ms/step - loss: 0.5684 - accuracy: 0.7111 - val_loss: 0.6250 - val_accuracy: 0.6375\n",
            "Epoch 4/5\n",
            "12/12 [==============================] - 1s 99ms/step - loss: 0.4998 - accuracy: 0.7458 - val_loss: 0.6587 - val_accuracy: 0.6500\n",
            "Epoch 5/5\n",
            "12/12 [==============================] - 1s 107ms/step - loss: 0.4642 - accuracy: 0.7708 - val_loss: 0.6246 - val_accuracy: 0.6125\n"
          ]
        }
      ]
    },
    {
      "cell_type": "code",
      "source": [
        "# access training loss\n",
        "# print(lstm_history.history)\n",
        "lstm_train_loss = lstm_history.history['loss']\n",
        "\n",
        "# access training accuracy\n",
        "lstm_train_accuracy = lstm_history.history['accuracy']\n",
        "\n",
        "# access validation loss (if validation data was provided)\n",
        "lstm_val_loss = lstm_history.history['val_loss']\n",
        "\n",
        "# access validation accuracy (if validation data was provided)\n",
        "lstm_val_accuracy = lstm_history.history['val_accuracy']"
      ],
      "metadata": {
        "id": "hwkBFQ1QhbU6"
      },
      "execution_count": null,
      "outputs": []
    },
    {
      "cell_type": "code",
      "source": [
        "lstm_test_loss,lstm_test_accuracy = lstm_model.evaluate(x=test_review, y=test_rating, batch_size=64 ,verbose=1)"
      ],
      "metadata": {
        "colab": {
          "base_uri": "https://localhost:8080/"
        },
        "id": "S1jDlhqIhbSJ",
        "outputId": "53b0e40f-4729-4a9f-89a4-d889b877bdc7"
      },
      "execution_count": null,
      "outputs": [
        {
          "output_type": "stream",
          "name": "stdout",
          "text": [
            "4/4 [==============================] - 0s 14ms/step - loss: 0.5605 - accuracy: 0.7250\n"
          ]
        }
      ]
    },
    {
      "cell_type": "code",
      "source": [
        "import matplotlib.pyplot as plt\n",
        "# create a figure with two subplots side-by-side\n",
        "fig, (ax1, ax2) = plt.subplots(ncols=2, figsize=(10, 5))\n",
        "\n",
        "# plot training and validation loss over each epoch\n",
        "ax1.plot(lstm_train_loss, label='Training Loss')\n",
        "ax1.plot(lstm_val_loss, label='Validation Loss')\n",
        "ax1.set_xlabel('Epoch')\n",
        "ax1.set_ylabel('Loss')\n",
        "ax1.legend()\n",
        "\n",
        "# plot training and validation accuracy over each epoch\n",
        "ax2.plot(lstm_train_accuracy, label='Training Accuracy')\n",
        "ax2.plot(lstm_val_accuracy, label='Validation Accuracy')\n",
        "ax2.set_xlabel('Epoch')\n",
        "ax2.set_ylabel('Accuracy')\n",
        "ax2.legend()\n",
        "\n",
        "# adjust spacing between subplots\n",
        "plt.subplots_adjust(wspace=0.4)\n",
        "\n",
        "# show the figure\n",
        "plt.show()\n"
      ],
      "metadata": {
        "colab": {
          "base_uri": "https://localhost:8080/",
          "height": 465
        },
        "id": "T3d50nsahbPb",
        "outputId": "f742f85d-2174-40b6-acfe-de2c72f35f64"
      },
      "execution_count": null,
      "outputs": [
        {
          "output_type": "display_data",
          "data": {
            "text/plain": [
              "<Figure size 1000x500 with 2 Axes>"
            ],
            "image/png": "[encoded data removed]"
          },
          "metadata": {}
        }
      ]
    },
    {
      "cell_type": "markdown",
      "source": [
        "# **Now using Gru**"
      ],
      "metadata": {
        "id": "2DVM-YOYhn9h"
      }
    },
    {
      "cell_type": "code",
      "source": [
        "gru1 = GRU (500, return_sequences=True)(reshaped_input)\n",
        "drop3 = Dropout(0.2)(gru1)\n",
        "gru2 = LSTM(200)(drop3)\n",
        "drop4 = Dropout(0.2)(gru2)\n",
        "out3 = Dense(num_classes, activation='softmax')(drop4)\n",
        "gru_model = Model(reshaped_input,out3)\n",
        "gru_model.compile(loss='sparse_categorical_crossentropy', optimizer='adam', metrics=['accuracy'])\n",
        "gru_model.summary()"
      ],
      "metadata": {
        "colab": {
          "base_uri": "https://localhost:8080/"
        },
        "id": "avu0JsiOhbMn",
        "outputId": "c4678d63-1a06-4c53-86bc-19b4a98b332c"
      },
      "execution_count": null,
      "outputs": [
        {
          "output_type": "stream",
          "name": "stdout",
          "text": [
            "Model: \"model_1\"\n",
            "_________________________________________________________________\n",
            " Layer (type)                Output Shape              Param #   \n",
            "=================================================================\n",
            " input_3 (InputLayer)        [(None, 1, 768)]          0         \n",
            "                                                                 \n",
            " gru (GRU)                   (None, 1, 500)            1905000   \n",
            "                                                                 \n",
            " dropout_2 (Dropout)         (None, 1, 500)            0         \n",
            "                                                                 \n",
            " lstm_2 (LSTM)               (None, 200)               560800    \n",
            "                                                                 \n",
            " dropout_3 (Dropout)         (None, 200)               0         \n",
            "                                                                 \n",
            " dense (Dense)               (None, 2)                 402       \n",
            "                                                                 \n",
            "=================================================================\n",
            "Total params: 2,466,202\n",
            "Trainable params: 2,466,202\n",
            "Non-trainable params: 0\n",
            "_________________________________________________________________\n"
          ]
        }
      ]
    },
    {
      "cell_type": "code",
      "source": [
        "gru_history = gru_model.fit(train_review, train_rating, batch_size=64,verbose=1,epochs=5,validation_split=0.1)"
      ],
      "metadata": {
        "colab": {
          "base_uri": "https://localhost:8080/"
        },
        "id": "Fu2ZX0ARhbJx",
        "outputId": "e9211fef-cc03-4297-a099-54ee960c98cd"
      },
      "execution_count": null,
      "outputs": [
        {
          "output_type": "stream",
          "name": "stdout",
          "text": [
            "Epoch 1/5\n",
            "12/12 [==============================] - 6s 139ms/step - loss: 0.7061 - accuracy: 0.5139 - val_loss: 0.7378 - val_accuracy: 0.4875\n",
            "Epoch 2/5\n",
            "12/12 [==============================] - 1s 60ms/step - loss: 0.6786 - accuracy: 0.5681 - val_loss: 0.6803 - val_accuracy: 0.5500\n",
            "Epoch 3/5\n",
            "12/12 [==============================] - 1s 89ms/step - loss: 0.5958 - accuracy: 0.6972 - val_loss: 0.6740 - val_accuracy: 0.5875\n",
            "Epoch 4/5\n",
            "12/12 [==============================] - 1s 86ms/step - loss: 0.5075 - accuracy: 0.7514 - val_loss: 0.6551 - val_accuracy: 0.6375\n",
            "Epoch 5/5\n",
            "12/12 [==============================] - 1s 85ms/step - loss: 0.5069 - accuracy: 0.7542 - val_loss: 0.6414 - val_accuracy: 0.6125\n"
          ]
        }
      ]
    },
    {
      "cell_type": "code",
      "source": [
        "gru_train_loss = gru_history.history['loss']\n",
        "gru_train_accuracy = gru_history.history['accuracy']\n",
        "gru_val_loss = gru_history.history['val_loss']\n",
        "gru_val_accuracy = gru_history.history['val_accuracy']"
      ],
      "metadata": {
        "id": "3ccvW1BMhbG6"
      },
      "execution_count": null,
      "outputs": []
    },
    {
      "cell_type": "code",
      "source": [
        "gru_test_loss,gru_test_accuracy=gru_model.evaluate(x=test_review, y=test_rating, batch_size=64 ,verbose=1)"
      ],
      "metadata": {
        "colab": {
          "base_uri": "https://localhost:8080/"
        },
        "id": "4B9fF36KhbDI",
        "outputId": "a04606b4-0268-4601-ea05-79673218c60f"
      },
      "execution_count": null,
      "outputs": [
        {
          "output_type": "stream",
          "name": "stdout",
          "text": [
            "4/4 [==============================] - 0s 12ms/step - loss: 0.5459 - accuracy: 0.7650\n"
          ]
        }
      ]
    },
    {
      "cell_type": "code",
      "source": [
        "# create a figure with two subplots side-by-side\n",
        "fig, (ax1, ax2) = plt.subplots(ncols=2, figsize=(10, 5))\n",
        "\n",
        "# plot training and validation loss over each epoch\n",
        "ax1.plot(gru_train_loss, label='Training Loss')\n",
        "ax1.plot(gru_val_loss, label='Validation Loss')\n",
        "ax1.set_xlabel('Epoch')\n",
        "ax1.set_ylabel('Loss')\n",
        "ax1.legend()\n",
        "\n",
        "# plot training and validation accuracy over each epoch\n",
        "ax2.plot(gru_train_accuracy, label='Training Accuracy')\n",
        "ax2.plot(gru_val_accuracy, label='Validation Accuracy')\n",
        "ax2.set_xlabel('Epoch')\n",
        "ax2.set_ylabel('Accuracy')\n",
        "ax2.legend()\n",
        "\n",
        "# adjust spacing between subplots\n",
        "plt.subplots_adjust(wspace=0.4)\n",
        "\n",
        "# show the figure\n",
        "plt.show()\n"
      ],
      "metadata": {
        "colab": {
          "base_uri": "https://localhost:8080/",
          "height": 465
        },
        "id": "ZsRSiTiZha_t",
        "outputId": "bf8e022b-f9cb-47a2-807c-f3b21aac26ad"
      },
      "execution_count": null,
      "outputs": [
        {
          "output_type": "display_data",
          "data": {
            "text/plain": [
              "<Figure size 1000x500 with 2 Axes>"
            ],
            "image/png": "[encoded data removed]"
          },
          "metadata": {}
        }
      ]
    },
    {
      "cell_type": "code",
      "source": [
        "max_length=128\n",
        "num_classes=2\n",
        "embed_dim=768\n",
        "num_words=30000\n",
        "#  create a sample input tensor with 768 input dimensions\n",
        "input_tensor = tf.keras.Input(shape=(768,))\n",
        "\n",
        "# reshape the input tensor to have 1 timestep\n",
        "reshaped_input = tf.reshape(input_tensor, shape=(-1, 1, 768))\n",
        "bilstm1 = Bidirectional(LSTM(500, return_sequences=True))(reshaped_input)\n",
        "drop3 = Dropout(0.2)(bilstm1)\n",
        "bilstm2 = Bidirectional(LSTM(200))(drop3)\n",
        "drop4 = Dropout(0.2)(bilstm2)\n",
        "out3 = Dense(num_classes, activation='softmax',name='last_dense_layer')(drop4)\n",
        "bilstm_model = Model(reshaped_input,out3)\n",
        "bilstm_model.compile(loss='sparse_categorical_crossentropy', optimizer='adam', metrics=['accuracy'])\n",
        "bilstm_model.summary()"
      ],
      "metadata": {
        "colab": {
          "base_uri": "https://localhost:8080/"
        },
        "id": "isI_kQ3wha3U",
        "outputId": "8773c4a9-5ae3-44bc-e6a9-1a016dd3bbdc"
      },
      "execution_count": null,
      "outputs": [
        {
          "output_type": "stream",
          "name": "stdout",
          "text": [
            "Model: \"model_2\"\n",
            "_________________________________________________________________\n",
            " Layer (type)                Output Shape              Param #   \n",
            "=================================================================\n",
            " input_5 (InputLayer)        [(None, 1, 768)]          0         \n",
            "                                                                 \n",
            " bidirectional (Bidirectiona  (None, 1, 1000)          5076000   \n",
            " l)                                                              \n",
            "                                                                 \n",
            " dropout_4 (Dropout)         (None, 1, 1000)           0         \n",
            "                                                                 \n",
            " bidirectional_1 (Bidirectio  (None, 400)              1921600   \n",
            " nal)                                                            \n",
            "                                                                 \n",
            " dropout_5 (Dropout)         (None, 400)               0         \n",
            "                                                                 \n",
            " last_dense_layer (Dense)    (None, 2)                 802       \n",
            "                                                                 \n",
            "=================================================================\n",
            "Total params: 6,998,402\n",
            "Trainable params: 6,998,402\n",
            "Non-trainable params: 0\n",
            "_________________________________________________________________\n"
          ]
        }
      ]
    },
    {
      "cell_type": "code",
      "source": [],
      "metadata": {
        "colab": {
          "base_uri": "https://localhost:8080/"
        },
        "id": "UxzwBsAr98a5",
        "outputId": "0a234bff-9560-4619-d30e-7ed16a030f17"
      },
      "execution_count": null,
      "outputs": [
        {
          "output_type": "execute_result",
          "data": {
            "text/plain": [
              "TensorShape([None, 1, 768])"
            ]
          },
          "metadata": {},
          "execution_count": 201
        }
      ]
    },
    {
      "cell_type": "code",
      "source": [
        "bilstm_history = bilstm_model.fit(train_review, train_rating, batch_size=64,verbose=1,epochs=5, \n",
        "                            validation_split=0.1)"
      ],
      "metadata": {
        "colab": {
          "base_uri": "https://localhost:8080/"
        },
        "id": "-DwSgSbOh6jz",
        "outputId": "5b226269-473c-4192-c316-f70f4e8ab948"
      },
      "execution_count": null,
      "outputs": [
        {
          "output_type": "stream",
          "name": "stdout",
          "text": [
            "Epoch 1/5\n",
            "12/12 [==============================] - 13s 306ms/step - loss: 0.6831 - accuracy: 0.5472 - val_loss: 0.6589 - val_accuracy: 0.6875\n",
            "Epoch 2/5\n",
            "12/12 [==============================] - 1s 124ms/step - loss: 0.5963 - accuracy: 0.7111 - val_loss: 0.6687 - val_accuracy: 0.6000\n",
            "Epoch 3/5\n",
            "12/12 [==============================] - 2s 149ms/step - loss: 0.5197 - accuracy: 0.7375 - val_loss: 0.7261 - val_accuracy: 0.6375\n",
            "Epoch 4/5\n",
            "12/12 [==============================] - 2s 150ms/step - loss: 0.5142 - accuracy: 0.7292 - val_loss: 0.7677 - val_accuracy: 0.6125\n",
            "Epoch 5/5\n",
            "12/12 [==============================] - 2s 201ms/step - loss: 0.4692 - accuracy: 0.7847 - val_loss: 0.6305 - val_accuracy: 0.6375\n"
          ]
        }
      ]
    },
    {
      "cell_type": "code",
      "source": [
        "# access training loss\n",
        "bilstm_train_loss = bilstm_history.history['loss']\n",
        "bilstm_train_accuracy = bilstm_history.history['accuracy']\n",
        "bilstm_val_loss = bilstm_history.history['val_loss']\n",
        "bilstm_val_accuracy = bilstm_history.history['val_accuracy']"
      ],
      "metadata": {
        "id": "jruIK1nZh8iJ"
      },
      "execution_count": null,
      "outputs": []
    },
    {
      "cell_type": "code",
      "source": [
        "bilstm_test_loss,bilstm_test_accuracy=bilstm_model.evaluate(x=test_review, y=test_rating, batch_size=64 ,verbose=1)"
      ],
      "metadata": {
        "colab": {
          "base_uri": "https://localhost:8080/"
        },
        "id": "E0J06exHh-t6",
        "outputId": "0af8ef9c-14c6-4d16-8a41-b516870538e6"
      },
      "execution_count": null,
      "outputs": [
        {
          "output_type": "stream",
          "name": "stdout",
          "text": [
            "4/4 [==============================] - 0s 45ms/step - loss: 0.5795 - accuracy: 0.7050\n"
          ]
        }
      ]
    },
    {
      "cell_type": "code",
      "source": [
        "# create a figure with two subplots side-by-side\n",
        "fig, (ax1, ax2) = plt.subplots(ncols=2, figsize=(10, 5))\n",
        "\n",
        "# plot training and validation loss over each epoch\n",
        "ax1.plot(bilstm_train_loss, label='Training Loss')\n",
        "ax1.plot(bilstm_val_loss, label='Validation Loss')\n",
        "ax1.set_xlabel('Epoch')\n",
        "ax1.set_ylabel('Loss')\n",
        "ax1.legend()\n",
        "\n",
        "# plot training and validation accuracy over each epoch\n",
        "ax2.plot(bilstm_train_accuracy, label='Training Accuracy')\n",
        "ax2.plot(bilstm_val_accuracy, label='Validation Accuracy')\n",
        "ax2.set_xlabel('Epoch')\n",
        "ax2.set_ylabel('Accuracy')\n",
        "ax2.legend()\n",
        "\n",
        "# adjust spacing between subplots\n",
        "plt.subplots_adjust(wspace=0.4)\n",
        "\n",
        "# show the figure\n",
        "plt.show()"
      ],
      "metadata": {
        "colab": {
          "base_uri": "https://localhost:8080/",
          "height": 465
        },
        "id": "Lal_9FSaiAlM",
        "outputId": "4d310ac1-24ff-4047-95d7-a7c14bb4087f"
      },
      "execution_count": null,
      "outputs": [
        {
          "output_type": "display_data",
          "data": {
            "text/plain": [
              "<Figure size 1000x500 with 2 Axes>"
            ],
            "image/png": "[encoded data removed]"
          },
          "metadata": {}
        }
      ]
    },
    {
      "cell_type": "markdown",
      "source": [
        "# **GENERATING WORD EMBEDDING PER SENTENCE FOR CNN**"
      ],
      "metadata": {
        "id": "Sz1_JvyJmgoM"
      }
    },
    {
      "cell_type": "markdown",
      "source": [
        "As an alternative method, let’s try creating the word vectors by summing together the last four layers."
      ],
      "metadata": {
        "id": "BVx7lV-mmujK"
      }
    },
    {
      "cell_type": "code",
      "source": [
        "# Stores the token vectors, with shape [22 x 768]\n",
        "token_vecs_sum = []\n",
        "\n",
        "# `token_embeddings` is a [22 x 12 x 768] tensor.\n",
        "\n",
        "# For each token in the sentence...\n",
        "for token in permuted_token_embeddings:\n",
        "\n",
        "    # `token` is a [12 x 768] tensor\n",
        "\n",
        "    # Sum the vectors from the last four layers.\n",
        "    sum_vec = torch.sum(token[-4:], dim=0)\n",
        "    \n",
        "    # Use `sum_vec` to represent `token`.\n",
        "    token_vecs_sum.append(sum_vec.numpy())"
      ],
      "metadata": {
        "id": "KkM02GAnmfOL"
      },
      "execution_count": null,
      "outputs": []
    },
    {
      "cell_type": "code",
      "source": [
        "print ('Shape is: %d x %d x %d' % (len(token_vecs_sum), len(token_vecs_sum[0]), len(token_vecs_sum[0][0])))"
      ],
      "metadata": {
        "colab": {
          "base_uri": "https://localhost:8080/"
        },
        "id": "Ra5FUyOrm_fh",
        "outputId": "7b794383-fce1-4edc-fbaf-6be38cdbdd21"
      },
      "execution_count": null,
      "outputs": [
        {
          "output_type": "stream",
          "name": "stdout",
          "text": [
            "Shape is: 100 x 128 x 768\n"
          ]
        }
      ]
    },
    {
      "cell_type": "code",
      "source": [
        "token_vecs_sum_numpy=np.array(token_vecs_sum)"
      ],
      "metadata": {
        "id": "bgtCSBVe8BfT"
      },
      "execution_count": null,
      "outputs": []
    },
    {
      "cell_type": "code",
      "source": [
        "from sklearn.model_selection import train_test_split\n",
        "# rating=t = tf.convert_to_tensor(df[\"rating\"])\n",
        "# print(type(rating))\n",
        "cnn_train_review,cnn_test_review, cnn_train_rating, cnn_test_rating = train_test_split(token_vecs_sum_numpy, df['rating'] , test_size=0.2, random_state=42)"
      ],
      "metadata": {
        "id": "j_tA7DSb7QaR"
      },
      "execution_count": null,
      "outputs": []
    },
    {
      "cell_type": "code",
      "source": [
        "# sentences=len(token_vecs_sum)\n",
        "# input_shape = (sentences, 128, 768)\n",
        "# x = tf.random.normal(input_shape)\n",
        "# print(x.shape)\n",
        "# abc = tf.keras.Input(shape=(128,768))\n",
        "x=Input(shape=(128,768))\n",
        "conv1 = Conv1D(16, 3, activation='relu',padding='same')(x)\n",
        "avg1=AveragePooling1D(pool_size=2,strides=2)(conv1)\n",
        "conv2 =Conv1D(32, 5, activation='relu',padding='same')(avg1)\n",
        "avg2=AveragePooling1D(pool_size=2,strides=2)(conv2)\n",
        "conv2 =Conv1D(64,7, activation='relu',padding='same',)(avg1)\n",
        "avg2=AveragePooling1D(pool_size=2,strides=2)(conv2)\n",
        "# Flatten the output\n",
        "flatten = Flatten()(avg2)\n",
        "fc1 = Dense(128, activation='relu')(flatten)\n",
        "fc1 = Dropout(0.5)(fc1)\n",
        "# Add a final output layer\n",
        "output_layer = Dense(2, activation='softmax')(fc1)\n",
        "# Create the model\n",
        "cnn_model = Model(inputs=x, outputs=output_layer)\n",
        "\n",
        "# Compile the model\n",
        "cnn_model.compile(optimizer='adam', loss='sparse_categorical_crossentropy', metrics=['accuracy'])\n",
        "\n",
        "# Print the model summary\n",
        "# model.summary()\n"
      ],
      "metadata": {
        "id": "ubT2IExPwcfb"
      },
      "execution_count": null,
      "outputs": []
    },
    {
      "cell_type": "code",
      "source": [
        "tf.config.run_functions_eagerly(True)"
      ],
      "metadata": {
        "id": "EKOijcKG9OOA"
      },
      "execution_count": null,
      "outputs": []
    },
    {
      "cell_type": "code",
      "source": [
        "cnn_history = cnn_model.fit(cnn_train_review, cnn_train_rating,verbose=1,epochs=5, \n",
        "                            validation_split=0.1)"
      ],
      "metadata": {
        "colab": {
          "base_uri": "https://localhost:8080/"
        },
        "id": "4gufKDVW60k6",
        "outputId": "34fd513a-c300-4f84-c775-eb2f1959b61c"
      },
      "execution_count": null,
      "outputs": [
        {
          "output_type": "stream",
          "name": "stdout",
          "text": [
            "Epoch 1/5\n"
          ]
        },
        {
          "output_type": "stream",
          "name": "stderr",
          "text": [
            "/usr/local/lib/python3.9/dist-packages/tensorflow/python/data/ops/structured_function.py:254: UserWarning: Even though the `tf.config.experimental_run_functions_eagerly` option is set, this option does not apply to tf.data functions. To force eager execution of tf.data functions, please use `tf.data.experimental.enable_debug_mode()`.\n",
            "  warnings.warn(\n"
          ]
        },
        {
          "output_type": "stream",
          "name": "stdout",
          "text": [
            "3/3 [==============================] - 1s 223ms/step - loss: 0.8177 - accuracy: 0.6111 - val_loss: 1.0835 - val_accuracy: 0.3750\n",
            "Epoch 2/5\n",
            "3/3 [==============================] - 1s 200ms/step - loss: 0.5456 - accuracy: 0.7222 - val_loss: 0.7198 - val_accuracy: 0.3750\n",
            "Epoch 3/5\n",
            "3/3 [==============================] - 1s 206ms/step - loss: 0.4958 - accuracy: 0.7500 - val_loss: 0.7941 - val_accuracy: 0.5000\n",
            "Epoch 4/5\n",
            "3/3 [==============================] - 1s 201ms/step - loss: 0.4149 - accuracy: 0.8056 - val_loss: 0.7250 - val_accuracy: 0.3750\n",
            "Epoch 5/5\n",
            "3/3 [==============================] - 1s 196ms/step - loss: 0.2144 - accuracy: 0.9583 - val_loss: 0.8768 - val_accuracy: 0.3750\n"
          ]
        }
      ]
    },
    {
      "cell_type": "markdown",
      "source": [
        "# **Multi-Scale Cnn**"
      ],
      "metadata": {
        "id": "m7vZC7P09HlM"
      }
    },
    {
      "cell_type": "code",
      "source": [
        "from keras.models import Model\n",
        "from keras.layers import Input, Conv1D, MaxPooling1D, concatenate, Flatten, Dense, Dropout\n",
        "\n",
        "# Define the input shape\n",
        "input_shape = (num_sentences, 768)\n",
        "\n",
        "# Define the input layer\n",
        "input_layer = Input(shape=input_shape)\n",
        "\n",
        "# Define the first convolutional block\n",
        "conv1_1 = Conv1D(32, 3, activation='relu', padding='same')(input_layer)\n",
        "conv1_1 = MaxPooling1D(pool_size=2)(conv1_1)\n",
        "\n",
        "# Define the second convolutional block\n",
        "conv1_2 = Conv1D(64, 3, activation='relu', padding='same')(conv1_1)\n",
        "conv1_2 = MaxPooling1D(pool_size=2)(conv1_2)\n",
        "\n",
        "# Define the third convolutional block\n",
        "conv1_3 = Conv1D(128, 3, activation='relu', padding='same')(conv1_2)\n",
        "conv1_3 = MaxPooling1D(pool_size=2)(conv1_3)\n",
        "\n",
        "# Define the fourth convolutional block\n",
        "conv1_4 = Conv1D(256, 3, activation='relu', padding='same')(conv1_3)\n",
        "conv1_4 = MaxPooling1D(pool_size=2)(conv1_4)\n",
        "\n",
        "# Define the multi-scale block\n",
        "scale1 = Conv1D(512, 1, activation='relu', padding='same')(conv1_4)\n",
        "scale2 = Conv1D(512, 3, activation='relu', padding='same')(conv1_4)\n",
        "scale3 = Conv1D(512, 5, activation='relu', padding='same')(conv1_4)\n",
        "concat = concatenate([scale1, scale2, scale3])\n",
        "\n",
        "# Flatten the output\n",
        "flatten = Flatten()(concat)\n",
        "\n",
        "# Add a fully connected layer\n",
        "fc1 = Dense(1024, activation='relu')(flatten)\n",
        "fc1 = Dropout(0.5)(fc1)\n",
        "\n",
        "# Add another fully connected layer\n",
        "fc2 = Dense(512, activation='relu')(fc1)\n",
        "fc2 = Dropout(0.5)(fc2)\n",
        "\n",
        "# Add a final output layer\n",
        "output_layer = Dense(1, activation='sigmoid')(fc2)\n",
        "\n",
        "# Create the model\n",
        "model = Model(inputs=input_layer, outputs=output_layer)\n",
        "\n",
        "# Compile the model\n",
        "model.compile(optimizer='adam', loss='sigmoid', metrics=['accuracy'])\n",
        "\n",
        "# Print the model summary\n",
        "model.summary()"
      ],
      "metadata": {
        "colab": {
          "base_uri": "https://localhost:8080/"
        },
        "id": "1ZXL39En9GZZ",
        "outputId": "02b142ad-df7b-4348-faaf-1ce8868204c8"
      },
      "execution_count": null,
      "outputs": [
        {
          "output_type": "stream",
          "name": "stdout",
          "text": [
            "Model: \"model_1\"\n",
            "__________________________________________________________________________________________________\n",
            " Layer (type)                   Output Shape         Param #     Connected to                     \n",
            "==================================================================================================\n",
            " input_2 (InputLayer)           [(None, 768, 1)]     0           []                               \n",
            "                                                                                                  \n",
            " conv1d_7 (Conv1D)              (None, 768, 32)      128         ['input_2[0][0]']                \n",
            "                                                                                                  \n",
            " max_pooling1d_4 (MaxPooling1D)  (None, 384, 32)     0           ['conv1d_7[0][0]']               \n",
            "                                                                                                  \n",
            " conv1d_8 (Conv1D)              (None, 384, 64)      6208        ['max_pooling1d_4[0][0]']        \n",
            "                                                                                                  \n",
            " max_pooling1d_5 (MaxPooling1D)  (None, 192, 64)     0           ['conv1d_8[0][0]']               \n",
            "                                                                                                  \n",
            " conv1d_9 (Conv1D)              (None, 192, 128)     24704       ['max_pooling1d_5[0][0]']        \n",
            "                                                                                                  \n",
            " max_pooling1d_6 (MaxPooling1D)  (None, 96, 128)     0           ['conv1d_9[0][0]']               \n",
            "                                                                                                  \n",
            " conv1d_10 (Conv1D)             (None, 96, 256)      98560       ['max_pooling1d_6[0][0]']        \n",
            "                                                                                                  \n",
            " max_pooling1d_7 (MaxPooling1D)  (None, 48, 256)     0           ['conv1d_10[0][0]']              \n",
            "                                                                                                  \n",
            " conv1d_11 (Conv1D)             (None, 48, 512)      131584      ['max_pooling1d_7[0][0]']        \n",
            "                                                                                                  \n",
            " conv1d_12 (Conv1D)             (None, 48, 512)      393728      ['max_pooling1d_7[0][0]']        \n",
            "                                                                                                  \n",
            " conv1d_13 (Conv1D)             (None, 48, 512)      655872      ['max_pooling1d_7[0][0]']        \n",
            "                                                                                                  \n",
            " concatenate_1 (Concatenate)    (None, 48, 1536)     0           ['conv1d_11[0][0]',              \n",
            "                                                                  'conv1d_12[0][0]',              \n",
            "                                                                  'conv1d_13[0][0]']              \n",
            "                                                                                                  \n",
            " flatten_1 (Flatten)            (None, 73728)        0           ['concatenate_1[0][0]']          \n",
            "                                                                                                  \n",
            " dense_3 (Dense)                (None, 1024)         75498496    ['flatten_1[0][0]']              \n",
            "                                                                                                  \n",
            " dropout_2 (Dropout)            (None, 1024)         0           ['dense_3[0][0]']                \n",
            "                                                                                                  \n",
            " dense_4 (Dense)                (None, 512)          524800      ['dropout_2[0][0]']              \n",
            "                                                                                                  \n",
            " dropout_3 (Dropout)            (None, 512)          0           ['dense_4[0][0]']                \n",
            "                                                                                                  \n",
            " dense_5 (Dense)                (None, 1)            513         ['dropout_3[0][0]']              \n",
            "                                                                                                  \n",
            "==================================================================================================\n",
            "Total params: 77,334,593\n",
            "Trainable params: 77,334,593\n",
            "Non-trainable params: 0\n",
            "__________________________________________________________________________________________________\n"
          ]
        }
      ]
    },
    {
      "cell_type": "code",
      "source": [
        "input_tensor = tf.keras.Input(shape=(None, 768))\n",
        "input_tensor"
      ],
      "metadata": {
        "colab": {
          "base_uri": "https://localhost:8080/"
        },
        "id": "iEtYfwmcAlJv",
        "outputId": "578456b1-4db9-4c76-cec8-69b10462e527"
      },
      "execution_count": null,
      "outputs": [
        {
          "output_type": "execute_result",
          "data": {
            "text/plain": [
              "<KerasTensor: shape=(None, None, 768) dtype=float32 (created by layer 'input_8')>"
            ]
          },
          "metadata": {},
          "execution_count": 207
        }
      ]
    },
    {
      "cell_type": "code",
      "source": [
        "mcnn_model_history = mcnn_model.fit(train_review, train_rating, batch_size=64,verbose=1,epochs=5, \n",
        "                            validation_split=0.1)"
      ],
      "metadata": {
        "colab": {
          "base_uri": "https://localhost:8080/",
          "height": 182
        },
        "id": "KI3kAxuC_SLW",
        "outputId": "c5ef7377-5a49-4fd3-b776-04e5265e4e50"
      },
      "execution_count": null,
      "outputs": [
        {
          "output_type": "error",
          "ename": "NameError",
          "evalue": "ignored",
          "traceback": [
            "\u001b[0;31m---------------------------------------------------------------------------\u001b[0m",
            "\u001b[0;31mNameError\u001b[0m                                 Traceback (most recent call last)",
            "\u001b[0;32m<ipython-input-5-c6249866035b>\u001b[0m in \u001b[0;36m<cell line: 1>\u001b[0;34m()\u001b[0m\n\u001b[0;32m----> 1\u001b[0;31m mcnn_model_history = mcnn_model.fit(train_review, train_rating, batch_size=64,verbose=1,epochs=5, \n\u001b[0m\u001b[1;32m      2\u001b[0m                             validation_split=0.1)\n",
            "\u001b[0;31mNameError\u001b[0m: name 'train_review' is not defined"
          ]
        }
      ]
    },
    {
      "cell_type": "markdown",
      "source": [
        "# **Ensembling Model**"
      ],
      "metadata": {
        "id": "hiuC93X2iDRQ"
      }
    },
    {
      "cell_type": "code",
      "source": [
        "import statistics\n",
        "import numpy as np"
      ],
      "metadata": {
        "id": "CRLrtwKBiGyb"
      },
      "execution_count": null,
      "outputs": []
    },
    {
      "cell_type": "code",
      "source": [
        "lstm_model_predictions = lstm_model.predict(test_review,verbose=1)"
      ],
      "metadata": {
        "colab": {
          "base_uri": "https://localhost:8080/"
        },
        "id": "wXUZOWyniJIH",
        "outputId": "8dc76fca-4a43-4714-fa1a-c4a638b46ea2"
      },
      "execution_count": null,
      "outputs": [
        {
          "output_type": "stream",
          "name": "stdout",
          "text": [
            "7/7 [==============================] - 1s 19ms/step\n"
          ]
        }
      ]
    },
    {
      "cell_type": "code",
      "source": [
        "lstm_model_pred=[]\n",
        "for i in lstm_model_predictions:\n",
        "  if(i[0]>i[1]):\n",
        "    lstm_model_pred.append(0)\n",
        "  else:\n",
        "    lstm_model_pred.append(1)"
      ],
      "metadata": {
        "id": "-6xOpvaNiJx4"
      },
      "execution_count": null,
      "outputs": []
    },
    {
      "cell_type": "code",
      "source": [
        "gru_model_predictions=gru_model.predict(test_review,verbose=1)"
      ],
      "metadata": {
        "colab": {
          "base_uri": "https://localhost:8080/"
        },
        "id": "EJshSfsLiJvV",
        "outputId": "8ccaa74d-3e03-4fea-a856-2f19b3e07037"
      },
      "execution_count": null,
      "outputs": [
        {
          "output_type": "stream",
          "name": "stdout",
          "text": [
            "7/7 [==============================] - 1s 11ms/step\n"
          ]
        }
      ]
    },
    {
      "cell_type": "code",
      "source": [
        "gru_model_pred=[]\n",
        "for i in gru_model_predictions:\n",
        "  if(i[0]>i[1]):\n",
        "    gru_model_pred.append(0)\n",
        "  else:\n",
        "    gru_model_pred.append(1)"
      ],
      "metadata": {
        "id": "pamRuqvWiJrd"
      },
      "execution_count": null,
      "outputs": []
    },
    {
      "cell_type": "code",
      "source": [
        "bilstm_model_predictions = bilstm_model.predict(test_review,verbose=1)"
      ],
      "metadata": {
        "colab": {
          "base_uri": "https://localhost:8080/"
        },
        "id": "hBS16Wt0iJhQ",
        "outputId": "244549cf-b6d2-46f3-aec9-f1673d11c495"
      },
      "execution_count": null,
      "outputs": [
        {
          "output_type": "stream",
          "name": "stdout",
          "text": [
            "7/7 [==============================] - 2s 17ms/step\n"
          ]
        }
      ]
    },
    {
      "cell_type": "code",
      "source": [
        "bilstm_model_pred=[]\n",
        "for i in bilstm_model_predictions:\n",
        "  if(i[0]>i[1]):\n",
        "    bilstm_model_pred.append(0)\n",
        "  else:\n",
        "    bilstm_model_pred.append(1)"
      ],
      "metadata": {
        "id": "gk9FHA7MiUGo"
      },
      "execution_count": null,
      "outputs": []
    },
    {
      "cell_type": "code",
      "source": [
        "final_pred = []"
      ],
      "metadata": {
        "id": "vBaG-v01iXbP"
      },
      "execution_count": null,
      "outputs": []
    },
    {
      "cell_type": "code",
      "source": [
        "for i in range(0, len(test_review)):\n",
        "      final_pred.append(statistics.mode([lstm_model_pred[i], \n",
        "                                         gru_model_pred[i],\n",
        "                                         bilstm_model_pred[i]]))"
      ],
      "metadata": {
        "id": "zZcvZrTpiZrI"
      },
      "execution_count": null,
      "outputs": []
    },
    {
      "cell_type": "markdown",
      "source": [
        "# **Finding individual accuracy before ensembling**"
      ],
      "metadata": {
        "id": "kFTGEhiQicbE"
      }
    },
    {
      "cell_type": "code",
      "source": [
        "from sklearn.metrics import accuracy_score, precision_score, recall_score, f1_score\n",
        "\n",
        "# Calculate accuracy, precision, recall, and F1 score for each model\n",
        "lstm_model_accuracy = accuracy_score(test_rating, lstm_model_pred)\n",
        "gru_model_accuracy = accuracy_score(test_rating, gru_model_pred)\n",
        "bilstm_model_accuracy = accuracy_score(test_rating, bilstm_model_pred)\n",
        "\n",
        "lstm_model_precision = precision_score(test_rating, lstm_model_pred)\n",
        "gru_model_precision = precision_score(test_rating, gru_model_pred)\n",
        "bilstm_model_precision = precision_score(test_rating, bilstm_model_pred)\n",
        "\n",
        "lstm_model_recall = recall_score(test_rating, lstm_model_pred)\n",
        "gru_model_recall = recall_score(test_rating, gru_model_pred)\n",
        "bilstm_model_recall = recall_score(test_rating, bilstm_model_pred)\n",
        "\n",
        "lstm_model_f1_score = f1_score(test_rating, lstm_model_pred)\n",
        "gru_model_f1_score = f1_score(test_rating, gru_model_pred)\n",
        "bilstm_model_f1_score = f1_score(test_rating, bilstm_model_pred)\n"
      ],
      "metadata": {
        "id": "6G9F36Bfifyu"
      },
      "execution_count": null,
      "outputs": []
    },
    {
      "cell_type": "markdown",
      "source": [
        "# **Finding Accuracy accuracy ensembling**"
      ],
      "metadata": {
        "id": "bcAAs0nvihus"
      }
    },
    {
      "cell_type": "code",
      "source": [
        "# Assume y_pred and y_true are numpy arrays of predicted and true labels, respectively\n",
        "accuracy_ensemble = accuracy_score(test_rating, final_pred)\n",
        "precision_ensemble = precision_score(test_rating,final_pred)\n",
        "recall_ensemble = recall_score(test_rating,final_pred)\n",
        "f1_score_ensemble = f1_score(test_rating,final_pred)"
      ],
      "metadata": {
        "id": "7zG5RiZhimOU"
      },
      "execution_count": null,
      "outputs": []
    },
    {
      "cell_type": "markdown",
      "source": [
        "# **Showing performance**"
      ],
      "metadata": {
        "id": "5y1gGWv2ioeP"
      }
    },
    {
      "cell_type": "code",
      "source": [
        "# Define the model names and performance metrics\n",
        "models = [\"LSTM MODEL\", \"GRU MODEL\", \"BiLSTM MODEL\", \"Ensemble Model\"]\n",
        "accuracy = [lstm_model_accuracy, gru_model_accuracy, bilstm_model_accuracy, accuracy_ensemble]\n",
        "precision = [lstm_model_precision, gru_model_precision, bilstm_model_precision, precision_ensemble]\n",
        "recall = [lstm_model_recall, gru_model_recall, bilstm_model_recall, recall_ensemble]\n",
        "f1_score = [lstm_model_f1_score, gru_model_f1_score, bilstm_model_f1_score, f1_score_ensemble]\n",
        "\n",
        "# Print the table headers\n",
        "print(\"{:<15} {:<15} {:<15} {:<15} {:<15}\".format(\"Model\", \"Accuracy\", \"Precision\", \"Recall\", \"F1 Score\"))\n",
        "\n",
        "# Print the table rows\n",
        "for i in range(len(models)):\n",
        "    print(\"{:<15} {:<15.4f} {:<15.4f} {:<15.4f} {:<15.4f}\".format(models[i], accuracy[i], precision[i], recall[i], f1_score[i]))"
      ],
      "metadata": {
        "colab": {
          "base_uri": "https://localhost:8080/"
        },
        "id": "2eRweFHMirb_",
        "outputId": "07db3c78-2307-4b47-d495-0103c9977df8"
      },
      "execution_count": null,
      "outputs": [
        {
          "output_type": "stream",
          "name": "stdout",
          "text": [
            "Model           Accuracy        Precision       Recall          F1 Score       \n",
            "LSTM MODEL      0.7250          0.7674          0.6535          0.7059         \n",
            "GRU MODEL       0.7650          0.7500          0.8020          0.7751         \n",
            "BiLSTM MODEL    0.7050          0.7333          0.6535          0.6911         \n",
            "Ensemble Model  0.7200          0.7419          0.6832          0.7113         \n"
          ]
        }
      ]
    },
    {
      "cell_type": "code",
      "source": [],
      "metadata": {
        "id": "99XJ1b2IJABS"
      },
      "execution_count": null,
      "outputs": []
    }
  ]
}